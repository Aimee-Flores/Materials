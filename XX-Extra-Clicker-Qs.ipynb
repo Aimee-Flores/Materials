{
 "cells": [
  {
   "cell_type": "markdown",
   "metadata": {
    "slideshow": {
     "slide_type": "slide"
    }
   },
   "source": [
    "### Clicker Warmpup #1\n",
    "\n",
    "What will be the output of this code?"
   ]
  },
  {
   "cell_type": "code",
   "execution_count": 2,
   "metadata": {
    "slideshow": {
     "slide_type": "fragment"
    }
   },
   "outputs": [
    {
     "name": "stdout",
     "output_type": "stream",
     "text": [
      "2\n"
     ]
    }
   ],
   "source": [
    "lst = [0, 1, 2, 3]\n",
    "\n",
    "my_val = 0\n",
    "\n",
    "for item in lst:\n",
    "    \n",
    "    if item == 2:\n",
    "        print(item)\n",
    "        break\n",
    "    elif item == 4:\n",
    "        my_val = my_val + 1\n",
    "    else:\n",
    "        continue"
   ]
  },
  {
   "cell_type": "markdown",
   "metadata": {
    "slideshow": {
     "slide_type": "fragment"
    }
   },
   "source": [
    "- A) 0, 1, 2\n",
    "- B) 0, 1, 2, 3\n",
    "- C) 2\n",
    "- D) False, False, True\n",
    "- E) False, False, True, True"
   ]
  },
  {
   "cell_type": "markdown",
   "metadata": {
    "slideshow": {
     "slide_type": "slide"
    }
   },
   "source": [
    "### Clicker Warmup #2\n",
    "\n",
    "What is the length of `my_dict`? "
   ]
  },
  {
   "cell_type": "code",
   "execution_count": 4,
   "metadata": {
    "slideshow": {
     "slide_type": "fragment"
    }
   },
   "outputs": [
    {
     "data": {
      "text/plain": [
       "3"
      ]
     },
     "execution_count": 4,
     "metadata": {},
     "output_type": "execute_result"
    }
   ],
   "source": [
    "my_dict = {'member_1' : 'Jane', 'member_2' : 'Allie', 'member_3' : 'Antonio'}\n",
    "len(my_dict)"
   ]
  },
  {
   "cell_type": "markdown",
   "metadata": {
    "slideshow": {
     "slide_type": "fragment"
    }
   },
   "source": [
    "- A) 1\n",
    "- B) 2\n",
    "- C) 3\n",
    "- D) 6"
   ]
  },
  {
   "cell_type": "markdown",
   "metadata": {
    "slideshow": {
     "slide_type": "slide"
    }
   },
   "source": [
    "### Clicker Warmup #3\n",
    "\n",
    "When executed, what would be the output of the following code?"
   ]
  },
  {
   "cell_type": "code",
   "execution_count": 1,
   "metadata": {
    "scrolled": true,
    "slideshow": {
     "slide_type": "fragment"
    }
   },
   "outputs": [
    {
     "ename": "TypeError",
     "evalue": "'tuple' object does not support item assignment",
     "output_type": "error",
     "traceback": [
      "\u001b[0;31m---------------------------------------------------------------------------\u001b[0m",
      "\u001b[0;31mTypeError\u001b[0m                                 Traceback (most recent call last)",
      "\u001b[0;32m<ipython-input-1-2712cf662cb8>\u001b[0m in \u001b[0;36m<module>\u001b[0;34m()\u001b[0m\n\u001b[1;32m      1\u001b[0m \u001b[0mlots_of_items\u001b[0m \u001b[0;34m=\u001b[0m\u001b[0;34m(\u001b[0m\u001b[0;36m1\u001b[0m\u001b[0;34m,\u001b[0m\u001b[0;36m2\u001b[0m\u001b[0;34m,\u001b[0m\u001b[0;36m4\u001b[0m\u001b[0;34m,\u001b[0m\u001b[0;36m5\u001b[0m\u001b[0;34m,\u001b[0m\u001b[0;36m6\u001b[0m\u001b[0;34m,\u001b[0m\u001b[0;36m7\u001b[0m\u001b[0;34m,\u001b[0m\u001b[0;36m9\u001b[0m\u001b[0;34m,\u001b[0m\u001b[0;36m11\u001b[0m\u001b[0;34m)\u001b[0m\u001b[0;34m\u001b[0m\u001b[0;34m\u001b[0m\u001b[0m\n\u001b[0;32m----> 2\u001b[0;31m \u001b[0mlots_of_items\u001b[0m\u001b[0;34m[\u001b[0m\u001b[0;36m5\u001b[0m\u001b[0;34m]\u001b[0m \u001b[0;34m=\u001b[0m \u001b[0;34m'string'\u001b[0m\u001b[0;34m\u001b[0m\u001b[0;34m\u001b[0m\u001b[0m\n\u001b[0m\u001b[1;32m      3\u001b[0m \u001b[0mprint\u001b[0m\u001b[0;34m(\u001b[0m\u001b[0mlots_of_items\u001b[0m\u001b[0;34m[\u001b[0m\u001b[0;36m5\u001b[0m\u001b[0;34m]\u001b[0m\u001b[0;34m)\u001b[0m\u001b[0;34m\u001b[0m\u001b[0;34m\u001b[0m\u001b[0m\n",
      "\u001b[0;31mTypeError\u001b[0m: 'tuple' object does not support item assignment"
     ]
    }
   ],
   "source": [
    "lots_of_items =(1,2,4,5,6,7,9,11)\n",
    "lots_of_items[5] = 'string'\n",
    "print(lots_of_items[5])"
   ]
  },
  {
   "cell_type": "markdown",
   "metadata": {
    "slideshow": {
     "slide_type": "fragment"
    }
   },
   "source": [
    "- A) 5\n",
    "- B) 6\n",
    "- C) 7\n",
    "- D) string\n",
    "- E) TypeError"
   ]
  },
  {
   "cell_type": "markdown",
   "metadata": {
    "slideshow": {
     "slide_type": "slide"
    }
   },
   "source": [
    "### A4: Artificial Agents \n",
    "\n",
    "Creating multiple bots that move: \n",
    "\n",
    "- randomly\n",
    "- with a purpose\n",
    "- teleport"
   ]
  },
  {
   "cell_type": "markdown",
   "metadata": {
    "slideshow": {
     "slide_type": "slide"
    }
   },
   "source": [
    "### Clicker Question \n",
    "\n",
    "How much work have you done on A4?\n",
    "\n",
    "- A) Haven't looked at it at all\n",
    "- B) Had a look, haven't started\n",
    "- C) A little\n",
    "- D) A Fair amount\n",
    "- E) Most or all of it"
   ]
  },
  {
   "cell_type": "markdown",
   "metadata": {
    "slideshow": {
     "slide_type": "slide"
    }
   },
   "source": [
    "### Review Question #1\n",
    "\n",
    "After executing the following code, which of the following statements is NOT true?"
   ]
  },
  {
   "cell_type": "code",
   "execution_count": null,
   "metadata": {
    "slideshow": {
     "slide_type": "fragment"
    }
   },
   "outputs": [],
   "source": [
    "from datetime import date\n",
    "\n",
    "my_date = date(year = 1988, month = 9, day = 29)\n",
    "my_year = my_date.year\n",
    "my_weekday = my_date.weekday()"
   ]
  },
  {
   "cell_type": "markdown",
   "metadata": {
    "slideshow": {
     "slide_type": "fragment"
    }
   },
   "source": [
    "- A) `my_date`, `my_year`, and `my_weekday` are all objects\n",
    "- B) `my_weekday` is a date type object\n",
    "- C) `year` is an attribute stored in date type objects\n",
    "- D) `weekday` is a method available for date type objects\n",
    "- E) `type(my_date)` would return 'datetime.date'"
   ]
  },
  {
   "cell_type": "markdown",
   "metadata": {
    "slideshow": {
     "slide_type": "slide"
    }
   },
   "source": [
    "### Review Question #2\n",
    "\n",
    "After executing the code below, which of the following options would output `True`?\n"
   ]
  },
  {
   "cell_type": "code",
   "execution_count": 18,
   "metadata": {
    "slideshow": {
     "slide_type": "fragment"
    }
   },
   "outputs": [
    {
     "name": "stdout",
     "output_type": "stream",
     "text": [
      "8 9\n"
     ]
    }
   ],
   "source": [
    "def exponentiate(number, exponent = 2):    \n",
    "    return number ** exponent\n",
    "\n",
    "a = exponentiate(exponent = 3, number = 2)\n",
    "b = exponentiate(3)\n",
    "\n",
    "print(a,b)"
   ]
  },
  {
   "cell_type": "markdown",
   "metadata": {
    "slideshow": {
     "slide_type": "fragment"
    }
   },
   "source": [
    "- A) `a == b`\n",
    "- B) `a < b`\n",
    "- C) `a > b`\n",
    "- D) This would produce an error.\n"
   ]
  },
  {
   "cell_type": "code",
   "execution_count": 17,
   "metadata": {
    "slideshow": {
     "slide_type": "fragment"
    }
   },
   "outputs": [
    {
     "name": "stdout",
     "output_type": "stream",
     "text": [
      "False\n",
      "True\n",
      "False\n"
     ]
    }
   ],
   "source": [
    "print( a == b)\n",
    "print( a < b )\n",
    "print(a > b)"
   ]
  },
  {
   "cell_type": "markdown",
   "metadata": {
    "slideshow": {
     "slide_type": "slide"
    }
   },
   "source": [
    "## Clicker Warm Up\n",
    "\n",
    "Define a function `add_then_multiply` that takes three inputs, assumed to be numbers, adds the first two inputs together and then multiplies that sum by the third input. Return the output.\n",
    "\n",
    "- A) I did it!\n",
    "- B) I think I did it!\n",
    "- C) I'm stuck."
   ]
  },
  {
   "cell_type": "code",
   "execution_count": 1,
   "metadata": {},
   "outputs": [],
   "source": [
    "### YOUR CODE HERE"
   ]
  },
  {
   "cell_type": "code",
   "execution_count": null,
   "metadata": {
    "slideshow": {
     "slide_type": "fragment"
    }
   },
   "outputs": [],
   "source": [
    "any elements of the list that are even. Return the value of all the even numbers multiplied together.\n",
    "\n",
    "A) I did it!\n",
    "B) I think I did it!\n",
    "C) I'm stuck.\n",
    "iclicker Frequency code: CA\n",
    "\n",
    "Slide Type\n",
    "## YOUR CODE HERE\n",
    "# def function\n",
    "def conditional_multiply (num_list):\n",
    "    multiply = 1\n",
    "    for each_num in num_list:\n",
    "        if each_num % 2 == 0:\n",
    "            multiply = multiply * each_num\n",
    "    return multiply\n",
    "​\n",
    "conditional_multiply([1,2,4,5,7,9])\n",
    "8\n",
    "# sample answer\n",
    "def add_then_multiply(num1, num2, num3):\n",
    "    return (num1 + num2)*num3\n",
    "\n",
    "add_then_multiply(2, 3, 8)"
   ]
  }
 ],
 "metadata": {
  "kernelspec": {
   "display_name": "Python 3",
   "language": "python",
   "name": "python3"
  },
  "language_info": {
   "codemirror_mode": {
    "name": "ipython",
    "version": 3
   },
   "file_extension": ".py",
   "mimetype": "text/x-python",
   "name": "python",
   "nbconvert_exporter": "python",
   "pygments_lexer": "ipython3",
   "version": "3.6.8"
  }
 },
 "nbformat": 4,
 "nbformat_minor": 2
}
