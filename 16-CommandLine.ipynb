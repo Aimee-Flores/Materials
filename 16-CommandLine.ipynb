{
 "cells": [
  {
   "cell_type": "markdown",
   "metadata": {
    "slideshow": {
     "slide_type": "slide"
    }
   },
   "source": [
    "# Command Line & Scripts"
   ]
  },
  {
   "cell_type": "markdown",
   "metadata": {
    "slideshow": {
     "slide_type": "slide"
    }
   },
   "source": [
    "## File Systems"
   ]
  },
  {
   "cell_type": "markdown",
   "metadata": {
    "slideshow": {
     "slide_type": "fragment"
    }
   },
   "source": [
    "<div class=\"alert alert-success\">\n",
    "Computers use a hierierarchical file systems that organize files & folders.\n",
    "</div>"
   ]
  },
  {
   "cell_type": "markdown",
   "metadata": {
    "slideshow": {
     "slide_type": "slide"
    }
   },
   "source": [
    "## Command Line"
   ]
  },
  {
   "cell_type": "markdown",
   "metadata": {
    "slideshow": {
     "slide_type": "fragment"
    }
   },
   "source": [
    "<div class=\"alert alert-success\">\n",
    "A 'command line interface' is a way to interact with a computer through written commands.\n",
    "</div>"
   ]
  },
  {
   "cell_type": "markdown",
   "metadata": {
    "slideshow": {
     "slide_type": "slide"
    }
   },
   "source": [
    "### Shell Commands"
   ]
  },
  {
   "cell_type": "markdown",
   "metadata": {
    "slideshow": {
     "slide_type": "fragment"
    }
   },
   "source": [
    "#### Check current directory"
   ]
  },
  {
   "cell_type": "code",
   "execution_count": 1,
   "metadata": {
    "slideshow": {
     "slide_type": "fragment"
    }
   },
   "outputs": [
    {
     "name": "stdout",
     "output_type": "stream",
     "text": [
      "/Users/tom/Documents/EdCode/18Org/Materials\r\n"
     ]
    }
   ],
   "source": [
    "!pwd"
   ]
  },
  {
   "cell_type": "markdown",
   "metadata": {
    "slideshow": {
     "slide_type": "fragment"
    }
   },
   "source": [
    "#### Change directory"
   ]
  },
  {
   "cell_type": "code",
   "execution_count": 69,
   "metadata": {
    "collapsed": true,
    "slideshow": {
     "slide_type": "fragment"
    }
   },
   "outputs": [],
   "source": [
    "!cd ~/Desktop/"
   ]
  },
  {
   "cell_type": "markdown",
   "metadata": {
    "slideshow": {
     "slide_type": "slide"
    }
   },
   "source": [
    "#### List files in a directory"
   ]
  },
  {
   "cell_type": "code",
   "execution_count": 4,
   "metadata": {
    "scrolled": true,
    "slideshow": {
     "slide_type": "fragment"
    }
   },
   "outputs": [
    {
     "name": "stdout",
     "output_type": "stream",
     "text": [
      "00-Introduction.ipynb           13-Objects.ipynb\r\n",
      "00-Introduction.slides.html     14-Classes.ipynb\r\n",
      "01-Tools.ipynb                  15-Namespaces.ipynb\r\n",
      "01-Tools.slides.html            16-CommandLine.ipynb\r\n",
      "02-JupyterNotebooks.ipynb       A1-Syntax.ipynb\r\n",
      "02-JupyterNotebooks.slides.html A2-Examples.ipynb\r\n",
      "03-Variables.ipynb              A3-Dictionary.ipynb\r\n",
      "03-Variables.slides.html        Midterm.ipynb\r\n",
      "04-Operators.ipynb              MidtermPractice.ipynb\r\n",
      "04-Operators.slides.html        README.md\r\n",
      "05-Conditionals.ipynb           TEMPLATES.ipynb\r\n",
      "05-conditionals.slides.html     Untitled.ipynb\r\n",
      "06-DataTypes.ipynb              XX-Assert.ipynb\r\n",
      "06-DataTypes.slides.html        ZZ-CheckInQuestions.ipynb\r\n",
      "07-Loops.ipynb                  \u001b[34m__pycache__\u001b[m\u001b[m\r\n",
      "08-Encodings.ipynb              assignment_notes.ipynb\r\n",
      "09-FunctionsI.ipynb             \u001b[34mdir_name\u001b[m\u001b[m\r\n",
      "10-Algorithms.ipynb             \u001b[34mimg\u001b[m\u001b[m\r\n",
      "11-FunctionsII.ipynb            remote.py\r\n",
      "12-Debugging.ipynb              zz-Misc.ipynb\r\n"
     ]
    }
   ],
   "source": [
    "!ls"
   ]
  },
  {
   "cell_type": "markdown",
   "metadata": {
    "slideshow": {
     "slide_type": "slide"
    }
   },
   "source": [
    "### More Shell Commands"
   ]
  },
  {
   "cell_type": "markdown",
   "metadata": {
    "slideshow": {
     "slide_type": "fragment"
    }
   },
   "source": [
    "#### Make a new directory"
   ]
  },
  {
   "cell_type": "code",
   "execution_count": 5,
   "metadata": {
    "slideshow": {
     "slide_type": "fragment"
    }
   },
   "outputs": [
    {
     "name": "stdout",
     "output_type": "stream",
     "text": [
      "mkdir: dir_name: File exists\r\n"
     ]
    }
   ],
   "source": [
    "!mkdir dir_name"
   ]
  },
  {
   "cell_type": "markdown",
   "metadata": {
    "slideshow": {
     "slide_type": "fragment"
    }
   },
   "source": [
    "#### Create a file"
   ]
  },
  {
   "cell_type": "code",
   "execution_count": 6,
   "metadata": {
    "collapsed": true,
    "slideshow": {
     "slide_type": "fragment"
    }
   },
   "outputs": [],
   "source": [
    "!touch new_file.py "
   ]
  },
  {
   "cell_type": "markdown",
   "metadata": {
    "slideshow": {
     "slide_type": "fragment"
    }
   },
   "source": [
    "#### Move a file"
   ]
  },
  {
   "cell_type": "code",
   "execution_count": 7,
   "metadata": {
    "collapsed": true,
    "slideshow": {
     "slide_type": "fragment"
    }
   },
   "outputs": [],
   "source": [
    "!mv new_file.py dir_name/new_file.py"
   ]
  },
  {
   "cell_type": "markdown",
   "metadata": {
    "slideshow": {
     "slide_type": "slide"
    }
   },
   "source": [
    "### And Some More"
   ]
  },
  {
   "cell_type": "markdown",
   "metadata": {
    "slideshow": {
     "slide_type": "fragment"
    }
   },
   "source": [
    "#### Print out a message"
   ]
  },
  {
   "cell_type": "code",
   "execution_count": 8,
   "metadata": {
    "slideshow": {
     "slide_type": "fragment"
    }
   },
   "outputs": [
    {
     "name": "stdout",
     "output_type": "stream",
     "text": [
      "Hello World!\r\n"
     ]
    }
   ],
   "source": [
    "!echo Hello World!"
   ]
  },
  {
   "cell_type": "markdown",
   "metadata": {
    "slideshow": {
     "slide_type": "fragment"
    }
   },
   "source": [
    "#### Print the contents of a file"
   ]
  },
  {
   "cell_type": "code",
   "execution_count": 9,
   "metadata": {
    "slideshow": {
     "slide_type": "fragment"
    }
   },
   "outputs": [
    {
     "name": "stdout",
     "output_type": "stream",
     "text": [
      "\r\n",
      "def my_remote_function(input_1, input_2):\r\n",
      "    \"\"\"A function from far away. \r\n",
      "    \r\n",
      "    This function returns the sum of the two inputs. \r\n",
      "    \"\"\"\r\n",
      "    \r\n",
      "    return input_1 + input_2\r\n",
      "\r\n",
      "\r\n",
      "def choice(list_to_choose_from):\r\n",
      "    \"\"\"Choose and return an item from a list. \r\n",
      "       \r\n",
      "    Notes: I am a custom choice function! I am not from `random`. \r\n",
      "    \r\n",
      "    Hint: my favourite is the last item. \r\n",
      "    \"\"\"\r\n",
      "    \r\n",
      "    return list_to_choose_from[-1]\r\n",
      "    \r\n",
      "    \r\n",
      "class MyNumbers():\r\n",
      "    \r\n",
      "    kind_of_thing = 'numbers'\r\n",
      "    \r\n",
      "    def __init__(self, num1, num2):\r\n",
      "        \r\n",
      "        self.num1 = num1\r\n",
      "        self.num2 = num2\r\n",
      "        \r\n",
      "    def add(self):\r\n",
      "        \r\n",
      "        return self.num1 + self.num2\r\n",
      "        \r\n",
      "    def subtract(self):\r\n",
      "        \r\n",
      "        return self.num2 - self.num1\r\n"
     ]
    }
   ],
   "source": [
    "!cat remote.py"
   ]
  },
  {
   "cell_type": "markdown",
   "metadata": {
    "slideshow": {
     "slide_type": "slide"
    }
   },
   "source": [
    "## Windows Command Prompt\n",
    "\n",
    "Some commands are slightly different if you are using windows command prompt:\n",
    "\n",
    "- `dir`\n",
    "    - lists files in current directory\n",
    "- `move`\t\n",
    "    - moves a file\n",
    "- `copy`\t\n",
    "    - copies a file\n",
    "- `rename`\t\n",
    "    - renames a file\n",
    "- `type`\n",
    "    - can be used to print out a file\n",
    "    \n",
    "Note that `pwd`, `cd`, `mkdir`, `echo` are all the same in Windows command prompt.\n",
    "\n",
    "If you want to make a new empty file, you can do:\n",
    "\n",
    "`'' > file.txt`\n",
    "\n",
    "^This construction puts an empty string into a file. If the filename is not found, it will create a new (empty) file."
   ]
  },
  {
   "cell_type": "markdown",
   "metadata": {
    "slideshow": {
     "slide_type": "slide"
    }
   },
   "source": [
    "### Clicker Question #1\n",
    "\n",
    "Which is the best description of the following command:\n",
    "    \n",
    "    `ls -l`\n",
    "\n",
    "- a) `ls -l` is most analogous to a class in Python\n",
    "- b) The whole `ls -l` is like a function call\n",
    "- c) `-l` is analogous to a function call, and `ls` is like a parameter\n",
    "- d) `ls` is analogous to a function, and `-l` is like a parameter\n",
    "- e) There is no clear analogy here to Python"
   ]
  },
  {
   "cell_type": "markdown",
   "metadata": {
    "slideshow": {
     "slide_type": "slide"
    }
   },
   "source": [
    "## Python Files"
   ]
  },
  {
   "cell_type": "markdown",
   "metadata": {
    "slideshow": {
     "slide_type": "fragment"
    }
   },
   "source": [
    "<div class=\"alert alert-success\">\n",
    "Python files are plain-text files, with Python code in them, that can be executed and/or imported from.\n",
    "</div>"
   ]
  },
  {
   "cell_type": "markdown",
   "metadata": {
    "slideshow": {
     "slide_type": "slide"
    }
   },
   "source": [
    "### Script vs. Module File"
   ]
  },
  {
   "cell_type": "markdown",
   "metadata": {
    "slideshow": {
     "slide_type": "fragment"
    }
   },
   "source": [
    "### Scripts\n",
    "\n",
    "<div class=\"alert alert-success\">\n",
    "A script is a Python file that can be run to execute a particular task. \n",
    "</div>"
   ]
  },
  {
   "cell_type": "markdown",
   "metadata": {
    "slideshow": {
     "slide_type": "fragment"
    }
   },
   "source": [
    "### Module Files\n",
    "\n",
    "<div class=\"alert alert-success\">\n",
    "A module file is a file with Python code (typically functions & classes) that we can import and use.\n",
    "</div>"
   ]
  },
  {
   "cell_type": "markdown",
   "metadata": {
    "slideshow": {
     "slide_type": "slide"
    }
   },
   "source": [
    "## Text Editors"
   ]
  },
  {
   "cell_type": "markdown",
   "metadata": {
    "slideshow": {
     "slide_type": "fragment"
    }
   },
   "source": [
    "<div class=\"alert alert-success\">\n",
    "Text-editors are programs made for editing text. Many text-editors are designed for writing code specifically. \n",
    "</div>"
   ]
  },
  {
   "cell_type": "markdown",
   "metadata": {
    "slideshow": {
     "slide_type": "fragment"
    }
   },
   "source": [
    "### Terminal Based Text Editors\n",
    "\n",
    "There are text editors designed to be used within a terminal, such as `vim` and `emacs`. "
   ]
  },
  {
   "cell_type": "markdown",
   "metadata": {
    "slideshow": {
     "slide_type": "fragment"
    }
   },
   "source": [
    "### Non-Terminal Text Editors\n",
    "\n",
    "For writing code (outside of notebooks and the terminal), you probably want a code focused stand-alone text editor, like Sublime."
   ]
  }
 ],
 "metadata": {
  "celltoolbar": "Slideshow",
  "kernelspec": {
   "display_name": "Python 3",
   "language": "python",
   "name": "python3"
  },
  "language_info": {
   "codemirror_mode": {
    "name": "ipython",
    "version": 3
   },
   "file_extension": ".py",
   "mimetype": "text/x-python",
   "name": "python",
   "nbconvert_exporter": "python",
   "pygments_lexer": "ipython3",
   "version": "3.6.6"
  }
 },
 "nbformat": 4,
 "nbformat_minor": 2
}
