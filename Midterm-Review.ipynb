{
 "cells": [
  {
   "cell_type": "markdown",
   "metadata": {
    "slideshow": {
     "slide_type": "slide"
    }
   },
   "source": [
    "# Midterm Review"
   ]
  },
  {
   "cell_type": "markdown",
   "metadata": {
    "slideshow": {
     "slide_type": "fragment"
    }
   },
   "source": [
    "<h1 align=\"center\">Midterm is Friday 5/10</h1>"
   ]
  },
  {
   "cell_type": "markdown",
   "metadata": {
    "slideshow": {
     "slide_type": "notes"
    }
   },
   "source": [
    "## Midterm Expectations\n",
    "\n",
    "You will be expected to: \n",
    "\n",
    "1. Recognize, understand and _respond_ to Python syntax:\n",
    "    - statements & comments, whitespace, code blocks & indentation levels\n",
    "2. Recognize, understand and be able to _explain_ code constructions:\n",
    "    - variables, operators, data types, conditionals, loops, functions, errors, classes & imports\n",
    "    - keywords (def, class, return, etc.)\n",
    "3. Know and be able to explain (roughly define) concepts we have talked about\n",
    "    - encodings & algorithms are related concepts (encryption, computability)\n",
    "4. Be able to apply what you've learned:\n",
    "    - Given a task:\n",
    "        - what kind of code constructions are needed to answer it?\n",
    "        - what kind of concepts does it relate to?\n",
    "5. With respect to everything above, be able to read and respond to short code snippets and write out code "
   ]
  },
  {
   "cell_type": "markdown",
   "metadata": {
    "slideshow": {
     "slide_type": "slide"
    }
   },
   "source": [
    "### Midterm Mechanics\n",
    "\n",
    "- Primarily short answers\n",
    "- Also: multiple choice, true/false, etc.\n",
    "\n",
    "#### The test is on paper. \n",
    "- You _will_ be both writing and interpreting code\n",
    "- You will _NOT_ be writing or debugging _large_ code sections on paper"
   ]
  },
  {
   "cell_type": "markdown",
   "metadata": {
    "slideshow": {
     "slide_type": "slide"
    }
   },
   "source": [
    "### Midterm Focus\n",
    "\n",
    "- Heavier on the stuff you've been using and gotten lots of practice with (variables, operators, conditionals, loops, functions, etc.)\n",
    "- Lighter on more recent material (Objects, Classes, instances, etc.) - it's on there, but it's more basic concepts, not tough applications"
   ]
  },
  {
   "cell_type": "markdown",
   "metadata": {
    "slideshow": {
     "slide_type": "slide"
    }
   },
   "source": [
    "### Reminder: \n",
    "\n",
    "There are two extra notebooks that you can use for review:\n",
    "\n",
    "1. [A1-Syntax](https://cogs18.github.io/materials/A1-Syntax/)\n",
    "2. [A2-Examples](https://cogs18.github.io/materials/A2-Examples/)\n",
    "\n",
    "There are also a few Midterm Practice Problems [here](https://cogs18.github.io/materials/MidtermPractice)."
   ]
  },
  {
   "cell_type": "markdown",
   "metadata": {
    "slideshow": {
     "slide_type": "slide"
    }
   },
   "source": [
    "## Topics & Example Questions\n",
    "\n",
    "- Variables & Data Types\n",
    "- Operators, Conditionals, & Loops\n",
    "- Functions, Objects & Classes\n",
    "- Python & Jupyter Extras"
   ]
  },
  {
   "cell_type": "markdown",
   "metadata": {
    "slideshow": {
     "slide_type": "slide"
    }
   },
   "source": [
    "### Variables & DataTypes\n",
    "\n",
    "Types:\n",
    "- strings, integers, floats, Booleans, None\n",
    "- Collections\n",
    "    - Lists\n",
    "    - Tuples\n",
    "    - Dictionaries\n",
    "\n",
    "Concepts:\n",
    "- Mutable vs. Immutable\n",
    "- Indexing"
   ]
  },
  {
   "cell_type": "markdown",
   "metadata": {
    "slideshow": {
     "slide_type": "slide"
    }
   },
   "source": [
    "#### Data Types Question #1\n",
    "\n",
    "What is the difference between a tuple and a list?"
   ]
  },
  {
   "cell_type": "markdown",
   "metadata": {
    "slideshow": {
     "slide_type": "fragment"
    }
   },
   "source": [
    "#### Data Types Question #2\n",
    "\n",
    "Given the following list: \n",
    "\n",
    "```python\n",
    "ice_cream = ['vanilla', 'chocolate', 'strawberry', 'cherry', 'salted caramel']\n",
    "\n",
    "```\n",
    "\n",
    "Edit the code at right with how would you return the specified values on left:\n",
    "\n",
    "```python\n",
    "['vanilla', 'chocolate', 'strawberry'] : ice_cream[      ]\n",
    "```"
   ]
  },
  {
   "cell_type": "code",
   "execution_count": null,
   "metadata": {
    "slideshow": {
     "slide_type": "fragment"
    }
   },
   "outputs": [],
   "source": [
    "## CODE HERE"
   ]
  },
  {
   "cell_type": "markdown",
   "metadata": {
    "slideshow": {
     "slide_type": "fragment"
    }
   },
   "source": [
    "#### Data Types Question #3\n",
    "\n",
    "Write a line of code that would change the third element of a list `my_list` to store the value `12`."
   ]
  },
  {
   "cell_type": "code",
   "execution_count": null,
   "metadata": {
    "slideshow": {
     "slide_type": "fragment"
    }
   },
   "outputs": [],
   "source": [
    "## CODE HERE"
   ]
  },
  {
   "cell_type": "markdown",
   "metadata": {
    "slideshow": {
     "slide_type": "slide"
    }
   },
   "source": [
    "### Operators\n",
    "\n",
    "- assignment : `=`\n",
    "- math: `+`, `-`, `/`, `*`, `**`, `//`\n",
    "- comparison : `==`, `!=`, `<`, `>`, `<=`, `>=`\n",
    "- logic: `and`, `or`, `not`\n",
    "- identity: `is`, `is not`\n",
    "- membership : `in`, `not in`"
   ]
  },
  {
   "cell_type": "markdown",
   "metadata": {
    "slideshow": {
     "slide_type": "slide"
    }
   },
   "source": [
    "#### Operators Question #1\n",
    "\n",
    "What is the difference between `=` and `==`?"
   ]
  },
  {
   "cell_type": "markdown",
   "metadata": {
    "slideshow": {
     "slide_type": "fragment"
    }
   },
   "source": [
    "#### Operators Question #2\n",
    "\n",
    "Write out what the following expression will evaluate as:\n",
    "\n",
    "```python\n",
    "not False or not True\n",
    "```"
   ]
  },
  {
   "cell_type": "code",
   "execution_count": null,
   "metadata": {
    "slideshow": {
     "slide_type": "fragment"
    }
   },
   "outputs": [],
   "source": [
    "## CODE HERE"
   ]
  },
  {
   "cell_type": "markdown",
   "metadata": {
    "slideshow": {
     "slide_type": "fragment"
    }
   },
   "source": [
    "#### Operators Question #3\n",
    "\n",
    "Write out what the following expression will evaluate as:\n",
    "\n",
    "```python\n",
    "2**2 + 2\n",
    "```"
   ]
  },
  {
   "cell_type": "code",
   "execution_count": null,
   "metadata": {
    "slideshow": {
     "slide_type": "fragment"
    }
   },
   "outputs": [],
   "source": [
    "## CODE HERE"
   ]
  },
  {
   "cell_type": "markdown",
   "metadata": {
    "slideshow": {
     "slide_type": "fragment"
    }
   },
   "source": [
    "#### Operators Question #4\n",
    "\n",
    "Write out what the following expression will evaluate as:\n",
    "\n",
    "```python\n",
    "'cogs' + '18'\n",
    "```"
   ]
  },
  {
   "cell_type": "code",
   "execution_count": null,
   "metadata": {
    "slideshow": {
     "slide_type": "fragment"
    }
   },
   "outputs": [],
   "source": [
    "## CODE HERE"
   ]
  },
  {
   "cell_type": "markdown",
   "metadata": {
    "slideshow": {
     "slide_type": "slide"
    }
   },
   "source": [
    "### Conditionals\n",
    "\n",
    "- `if`, `elif`, & `else`"
   ]
  },
  {
   "cell_type": "markdown",
   "metadata": {
    "slideshow": {
     "slide_type": "fragment"
    }
   },
   "source": [
    "#### Conditionals Question #1\n",
    "\n",
    "Circle necessary or optional, as applicable: In Python, a conditional has a necessary / optional `if` statement, one or more necessary / optional `elif` statement(s) and a necessary / optional `else` statement. "
   ]
  },
  {
   "cell_type": "markdown",
   "metadata": {
    "slideshow": {
     "slide_type": "fragment"
    }
   },
   "source": [
    "#### Conditionals Question #2\n",
    "\n",
    "Given the following outline of a conditional:\n",
    "\n",
    "```python\n",
    "    if COND_A:\n",
    "      \t# Code Block A\n",
    "\telif COND_B:\n",
    "\t\t# Code Block B\n",
    "\telse:\n",
    "\t\t# Code Block C\n",
    "```\n",
    "\n",
    "1. If `COND_A` and `COND_B` are both `True`, which code block(s) evaluate?\n",
    "2. If `COND_A` is False and `COND_B` is `True`, which code block(s) evaluate?"
   ]
  },
  {
   "cell_type": "markdown",
   "metadata": {
    "slideshow": {
     "slide_type": "slide"
    }
   },
   "source": [
    "### Loops\n",
    "\n",
    "- loops: `for` and `while`\n",
    "    - `continue`, `break`, `pass`"
   ]
  },
  {
   "cell_type": "markdown",
   "metadata": {
    "slideshow": {
     "slide_type": "fragment"
    }
   },
   "source": [
    "#### Loops Question #1\n",
    "What are the two kinds of loops? ____________ and ____________"
   ]
  },
  {
   "cell_type": "markdown",
   "metadata": {
    "slideshow": {
     "slide_type": "fragment"
    }
   },
   "source": [
    "#### Loops Question #2\n",
    "Use the following:\n",
    "```python ind = 1``` to write a loop (using real Python code) that would loop and print the value `ind` of ind each time through the loop _and_ update the value of ind by 1. Have this loop stop after 4 iterations. "
   ]
  },
  {
   "cell_type": "code",
   "execution_count": 5,
   "metadata": {
    "slideshow": {
     "slide_type": "fragment"
    }
   },
   "outputs": [],
   "source": [
    "## YOUR ANSWER HERE"
   ]
  },
  {
   "cell_type": "markdown",
   "metadata": {
    "slideshow": {
     "slide_type": "slide"
    }
   },
   "source": [
    "## Clicker Question\n",
    "\n",
    "How are you feeling about the midterm?\n",
    "\n",
    "- A) Very Prepared\n",
    "- B) Somewhat prepared\n",
    "- C) OK\n",
    "- D) Somewhat nervous\n",
    "- E) Very nervous"
   ]
  },
  {
   "cell_type": "markdown",
   "metadata": {
    "slideshow": {
     "slide_type": "slide"
    }
   },
   "source": [
    "### Functions\n",
    "\n",
    "- `def`\n",
    "    - `return`\n",
    "- executing a function\n",
    "    - parameters\n",
    "        - keyword vs. positional\n",
    "        - default values\n",
    "    - have a separate namespace\n",
    "- methods \n",
    "    - in place vs. not in place"
   ]
  },
  {
   "cell_type": "markdown",
   "metadata": {
    "slideshow": {
     "slide_type": "fragment"
    }
   },
   "source": [
    "#### Functions Question #1\n",
    "Write, in real code, a function called `add` that takes two inputs, assumed to be numbers, sums them together and returns the result."
   ]
  },
  {
   "cell_type": "code",
   "execution_count": 6,
   "metadata": {
    "slideshow": {
     "slide_type": "fragment"
    }
   },
   "outputs": [],
   "source": [
    "## YOUR CODE HERE"
   ]
  },
  {
   "cell_type": "markdown",
   "metadata": {
    "slideshow": {
     "slide_type": "slide"
    }
   },
   "source": [
    "#### Functions Question #2\n",
    "Using the function `add` you wrote above, write the python code you would use to add the value 16 and 18 together. Store the output in the variable `my_sum`."
   ]
  },
  {
   "cell_type": "code",
   "execution_count": 6,
   "metadata": {
    "slideshow": {
     "slide_type": "fragment"
    }
   },
   "outputs": [],
   "source": [
    "## YOUR CODE HERE"
   ]
  },
  {
   "cell_type": "markdown",
   "metadata": {
    "slideshow": {
     "slide_type": "slide"
    }
   },
   "source": [
    "### Objects & Classes\n",
    "\n",
    "- objects & `class`\n",
    "    - attributes\n",
    "    - methods\n",
    "    - instances\n"
   ]
  },
  {
   "cell_type": "markdown",
   "metadata": {
    "slideshow": {
     "slide_type": "slide"
    }
   },
   "source": [
    "#### Objects & Classes Question #1\n",
    "\n",
    "Given an instance object 'koala' of the class 'Animals', write a line to:\n",
    "\n",
    "\tcall the method 'speak' on 'koala': \t_________________________________\n",
    "\n",
    "\taccess the attribute 'sound' of 'koala': \t_________________________________\n"
   ]
  },
  {
   "cell_type": "markdown",
   "metadata": {
    "slideshow": {
     "slide_type": "fragment"
    }
   },
   "source": [
    "#### Objects & Classes Question #2\n",
    "\n",
    "Fill in the blanks:\n",
    "\n",
    "\tWhat is the name of a function defined with a class: ______________\n",
    "\n",
    "\tIn Python, everything is a(n) ______________. \n"
   ]
  },
  {
   "cell_type": "markdown",
   "metadata": {
    "slideshow": {
     "slide_type": "slide"
    }
   },
   "source": [
    "### Python & Jupyter Extras\n",
    "- encodings (`chr` & `ord`)\n",
    "- whitespace\n",
    "- namespace\n",
    "- kernel\n",
    "- code comments\n",
    "- magic functions"
   ]
  },
  {
   "cell_type": "markdown",
   "metadata": {
    "slideshow": {
     "slide_type": "slide"
    }
   },
   "source": [
    "#### Extras Question #1\n",
    "What will the following piece of code print out?\n",
    "\n",
    "```python print(chr(ord('A')))``` \n",
    "    \n",
    "     _____________"
   ]
  },
  {
   "cell_type": "markdown",
   "metadata": {
    "slideshow": {
     "slide_type": "fragment"
    }
   },
   "source": [
    "#### Extras Question #2 \n",
    "\n",
    "What is the magic function `%whos` used for?"
   ]
  },
  {
   "cell_type": "markdown",
   "metadata": {
    "slideshow": {
     "slide_type": "slide"
    }
   },
   "source": [
    "#### Extras Question #3\n",
    "\n",
    "For each of the following, indicate if the statement is True or False about Python\n",
    "\n",
    "- True/False Whitespace matters in Python\n",
    "- True/False Comments in Python start with '%' \t\t\t\t\t\n",
    "- True/False You have to specify a data type when you define a variable\n",
    "- True/False Every Python variable is available from every namespace\t\t\n"
   ]
  },
  {
   "cell_type": "markdown",
   "metadata": {
    "slideshow": {
     "slide_type": "slide"
    }
   },
   "source": [
    "<h2><center>After the midterm:</center></h2>"
   ]
  },
  {
   "cell_type": "markdown",
   "metadata": {
    "slideshow": {
     "slide_type": "fragment"
    }
   },
   "source": [
    "<h3><center> We will focus on the Python ecosystem, and applications of Python. </center></h3>"
   ]
  },
  {
   "cell_type": "markdown",
   "metadata": {
    "slideshow": {
     "slide_type": "fragment"
    }
   },
   "source": [
    "<h3><center> We also become a project based course. </center></h3>"
   ]
  }
 ],
 "metadata": {
  "celltoolbar": "Slideshow",
  "kernelspec": {
   "display_name": "Python 3",
   "language": "python",
   "name": "python3"
  },
  "language_info": {
   "codemirror_mode": {
    "name": "ipython",
    "version": 3
   },
   "file_extension": ".py",
   "mimetype": "text/x-python",
   "name": "python",
   "nbconvert_exporter": "python",
   "pygments_lexer": "ipython3",
   "version": "3.6.8"
  },
  "rise": {
   "scroll": true
  }
 },
 "nbformat": 4,
 "nbformat_minor": 2
}
