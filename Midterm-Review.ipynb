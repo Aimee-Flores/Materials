{
 "cells": [
  {
   "cell_type": "markdown",
   "metadata": {
    "slideshow": {
     "slide_type": "slide"
    }
   },
   "source": [
    "# Midterm Review\n",
    "\n",
    "- A4 due Monday (11:59 PM)"
   ]
  },
  {
   "cell_type": "markdown",
   "metadata": {
    "slideshow": {
     "slide_type": "fragment"
    }
   },
   "source": [
    "<h1 align=\"center\">Midterm is Friday 5/10</h1>"
   ]
  },
  {
   "cell_type": "markdown",
   "metadata": {
    "slideshow": {
     "slide_type": "notes"
    }
   },
   "source": [
    "## Midterm Expectations\n",
    "\n",
    "You will be expected to: \n",
    "\n",
    "1. Recognize, understand and _respond_ to Python syntax:\n",
    "    - statements & comments, whitespace, code blocks & indentation levels\n",
    "2. Recognize, understand and be able to _explain_ code constructions:\n",
    "    - variables, operators, data types, conditionals, loops, functions, errors, classes & imports\n",
    "    - keywords (def, class, return, etc.)\n",
    "3. Know and be able to explain (roughly define) concepts we have talked about\n",
    "    - encodings & algorithms are related concepts (encryption, computability)\n",
    "4. Be able to apply what you've learned:\n",
    "    - Given a task:\n",
    "        - what kind of code constructions are needed to answer it?\n",
    "        - what kind of concepts does it relate to?\n",
    "5. With respect to everything above, be able to read and respond to short code snippets and write out code "
   ]
  },
  {
   "cell_type": "markdown",
   "metadata": {
    "slideshow": {
     "slide_type": "slide"
    }
   },
   "source": [
    "### Midterm Mechanics\n",
    "\n",
    "- Primarily short answers\n",
    "- Also: multiple choice, true/false, etc.\n",
    "\n",
    "#### The test is on paper. \n",
    "- You _will_ be both writing and interpreting code\n",
    "- You will _NOT_ be writing or debugging _large_ code sections on paper"
   ]
  },
  {
   "cell_type": "markdown",
   "metadata": {
    "slideshow": {
     "slide_type": "slide"
    }
   },
   "source": [
    "### Midterm Focus\n",
    "\n",
    "- Heavier on the stuff you've been using and gotten lots of practice with (variables, operators, conditionals, loops, functions, etc.)\n",
    "- Lighter on more recent material (Objects, Classes, instances, etc.) - it's on there, but it's more basic concepts, not tough applications"
   ]
  },
  {
   "cell_type": "markdown",
   "metadata": {
    "slideshow": {
     "slide_type": "slide"
    }
   },
   "source": [
    "### Reminder: \n",
    "\n",
    "There are two extra notebooks that you can use for review:\n",
    "\n",
    "1. [A1-Syntax](https://cogs18.github.io/materials/A1-Syntax/)\n",
    "2. [A2-Examples](https://cogs18.github.io/materials/A2-Examples/)\n",
    "\n",
    "There are also a few Midterm Practice Problems [here](https://cogs18.github.io/materials/MidtermPractice)."
   ]
  },
  {
   "cell_type": "markdown",
   "metadata": {
    "slideshow": {
     "slide_type": "slide"
    }
   },
   "source": [
    "## Topics & Example Questions\n",
    "\n",
    "- Variables & Data Types\n",
    "- Operators, Conditionals, & Loops\n",
    "- Functions, Objects & Classes\n",
    "- Python & Jupyter Extras"
   ]
  },
  {
   "cell_type": "markdown",
   "metadata": {
    "slideshow": {
     "slide_type": "slide"
    }
   },
   "source": [
    "### Variables & DataTypes\n",
    "\n",
    "Types:\n",
    "- strings, integers, floats, Booleans, None\n",
    "- Collections\n",
    "    - Lists\n",
    "    - Tuples\n",
    "    - Dictionaries\n",
    "\n",
    "Concepts:\n",
    "- Mutable vs. Immutable\n",
    "- Indexing"
   ]
  },
  {
   "cell_type": "markdown",
   "metadata": {
    "slideshow": {
     "slide_type": "slide"
    }
   },
   "source": [
    "#### Data Types Question #1\n",
    "\n",
    "What is the difference between a tuple and a list?"
   ]
  },
  {
   "cell_type": "markdown",
   "metadata": {
    "slideshow": {
     "slide_type": "fragment"
    }
   },
   "source": [
    "#### Data Types Question #2\n",
    "\n",
    "Given the following list: \n",
    "\n",
    "```python\n",
    "ice_cream = ['vanilla', 'chocolate', 'strawberry', 'cherry', 'salted caramel']\n",
    "\n",
    "```\n",
    "\n",
    "Edit the code at right with how would you return the specified values on left:\n",
    "\n",
    "```python\n",
    "['vanilla', 'chocolate', 'strawberry'] : ice_cream[      ]\n",
    "```"
   ]
  },
  {
   "cell_type": "markdown",
   "metadata": {
    "slideshow": {
     "slide_type": "fragment"
    }
   },
   "source": [
    "#### Data Types Question #3\n",
    "\n",
    "Write a line of code that would change the third element of a list `my_list` to store the value `12`."
   ]
  },
  {
   "cell_type": "markdown",
   "metadata": {
    "slideshow": {
     "slide_type": "slide"
    }
   },
   "source": [
    "#### Data Types Answers"
   ]
  },
  {
   "cell_type": "markdown",
   "metadata": {
    "scrolled": true,
    "slideshow": {
     "slide_type": "fragment"
    }
   },
   "source": [
    "Data Types Question #1\n",
    "\n",
    "Tuples are created with () and are immutable.  \n",
    "Lists are created with [] and are mutable."
   ]
  },
  {
   "cell_type": "code",
   "execution_count": 10,
   "metadata": {
    "scrolled": true,
    "slideshow": {
     "slide_type": "fragment"
    }
   },
   "outputs": [
    {
     "data": {
      "text/plain": [
       "['vanilla', 'chocolate', 'strawberry']"
      ]
     },
     "execution_count": 10,
     "metadata": {},
     "output_type": "execute_result"
    }
   ],
   "source": [
    "# Data Types Question #2\n",
    "ice_cream = ['vanilla', 'chocolate', 'strawberry', 'cherry', 'salted caramel']\n",
    "ice_cream[-5:-2]\n",
    "ice_cream[:3]\n",
    "ice_cream[0:3]"
   ]
  },
  {
   "cell_type": "code",
   "execution_count": null,
   "metadata": {
    "slideshow": {
     "slide_type": "fragment"
    }
   },
   "outputs": [],
   "source": [
    "# Data Types Question #3\n",
    "my_list[2] = 12"
   ]
  },
  {
   "cell_type": "code",
   "execution_count": 11,
   "metadata": {
    "slideshow": {
     "slide_type": "fragment"
    }
   },
   "outputs": [
    {
     "data": {
      "text/plain": [
       "[1, 2, 12, 4, 5, 6]"
      ]
     },
     "execution_count": 11,
     "metadata": {},
     "output_type": "execute_result"
    }
   ],
   "source": [
    "# Data Types Question #3\n",
    "my_list = [1,2,3,4,5,6]\n",
    "my_list[2] = 12\n",
    "my_list"
   ]
  },
  {
   "cell_type": "markdown",
   "metadata": {
    "slideshow": {
     "slide_type": "slide"
    }
   },
   "source": [
    "### Operators\n",
    "\n",
    "- assignment : `=`\n",
    "- math: `+`, `-`, `/`, `*`, `**`, `//`\n",
    "- comparison : `==`, `!=`, `<`, `>`, `<=`, `>=`\n",
    "- logic: `and`, `or`, `not`\n",
    "- identity: `is`, `is not`\n",
    "- membership : `in`, `not in`"
   ]
  },
  {
   "cell_type": "markdown",
   "metadata": {
    "slideshow": {
     "slide_type": "slide"
    }
   },
   "source": [
    "#### Operators Question #1\n",
    "\n",
    "What is the difference between `=` and `==`?"
   ]
  },
  {
   "cell_type": "markdown",
   "metadata": {
    "slideshow": {
     "slide_type": "fragment"
    }
   },
   "source": [
    "#### Operators Question #2\n",
    "\n",
    "Write out what the following expression will evaluate as:\n",
    "\n",
    "```python\n",
    "not False or not True\n",
    "```"
   ]
  },
  {
   "cell_type": "markdown",
   "metadata": {
    "slideshow": {
     "slide_type": "fragment"
    }
   },
   "source": [
    "#### Operators Question #3\n",
    "\n",
    "Write out what the following expression will evaluate as:\n",
    "\n",
    "```python\n",
    "2**2 + 2\n",
    "```"
   ]
  },
  {
   "cell_type": "markdown",
   "metadata": {
    "slideshow": {
     "slide_type": "fragment"
    }
   },
   "source": [
    "#### Operators Question #4\n",
    "\n",
    "Write out what the following expression will evaluate as:\n",
    "\n",
    "```python\n",
    "'cogs' + '18'\n",
    "```"
   ]
  },
  {
   "cell_type": "markdown",
   "metadata": {
    "slideshow": {
     "slide_type": "slide"
    }
   },
   "source": [
    "#### Operators Answers"
   ]
  },
  {
   "cell_type": "markdown",
   "metadata": {
    "scrolled": true,
    "slideshow": {
     "slide_type": "fragment"
    }
   },
   "source": [
    "Operators Question #1\n",
    "\n",
    "= is an assignment operator  \n",
    "== checks for equality"
   ]
  },
  {
   "cell_type": "code",
   "execution_count": 12,
   "metadata": {
    "scrolled": true,
    "slideshow": {
     "slide_type": "fragment"
    }
   },
   "outputs": [
    {
     "data": {
      "text/plain": [
       "True"
      ]
     },
     "execution_count": 12,
     "metadata": {},
     "output_type": "execute_result"
    }
   ],
   "source": [
    "# Operators Question #2\n",
    "not False or not True"
   ]
  },
  {
   "cell_type": "code",
   "execution_count": 13,
   "metadata": {
    "scrolled": true,
    "slideshow": {
     "slide_type": "fragment"
    }
   },
   "outputs": [
    {
     "data": {
      "text/plain": [
       "6"
      ]
     },
     "execution_count": 13,
     "metadata": {},
     "output_type": "execute_result"
    }
   ],
   "source": [
    "# Operators Question #3\n",
    "2**2 + 2"
   ]
  },
  {
   "cell_type": "code",
   "execution_count": 14,
   "metadata": {
    "scrolled": true,
    "slideshow": {
     "slide_type": "fragment"
    }
   },
   "outputs": [
    {
     "data": {
      "text/plain": [
       "'cogs18'"
      ]
     },
     "execution_count": 14,
     "metadata": {},
     "output_type": "execute_result"
    }
   ],
   "source": [
    "# Operators Question #4\n",
    "'cogs' + '18'"
   ]
  },
  {
   "cell_type": "markdown",
   "metadata": {
    "slideshow": {
     "slide_type": "slide"
    }
   },
   "source": [
    "### Conditionals\n",
    "\n",
    "- `if`, `elif`, & `else`"
   ]
  },
  {
   "cell_type": "markdown",
   "metadata": {
    "slideshow": {
     "slide_type": "slide"
    }
   },
   "source": [
    "#### Conditionals Question #1\n",
    "\n",
    "Circle necessary or optional, as applicable: In Python, a conditional has a necessary / optional `if` statement, one or more necessary / optional `elif` statement(s) and a necessary / optional `else` statement. "
   ]
  },
  {
   "cell_type": "markdown",
   "metadata": {
    "slideshow": {
     "slide_type": "fragment"
    }
   },
   "source": [
    "#### Conditionals Question #2\n",
    "\n",
    "Given the following outline of a conditional:\n",
    "\n",
    "```python\n",
    "    if COND_A:\n",
    "        # Code Block A\n",
    "\telif COND_B:\n",
    "\t\t# Code Block B\n",
    "\telse:\n",
    "\t\t# Code Block C\n",
    "```\n",
    "\n",
    "1. If `COND_A` and `COND_B` are both `True`, which code block(s) evaluate?\n",
    "2. If `COND_A` is False and `COND_B` is `True`, which code block(s) evaluate?"
   ]
  },
  {
   "cell_type": "markdown",
   "metadata": {
    "slideshow": {
     "slide_type": "slide"
    }
   },
   "source": [
    "#### Conditionals Answers"
   ]
  },
  {
   "cell_type": "markdown",
   "metadata": {
    "scrolled": true,
    "slideshow": {
     "slide_type": "fragment"
    }
   },
   "source": [
    "Conditionals Question #1\n",
    "\n",
    "necessary, optional, optional"
   ]
  },
  {
   "cell_type": "markdown",
   "metadata": {
    "scrolled": true,
    "slideshow": {
     "slide_type": "fragment"
    }
   },
   "source": [
    "Conditionals Question #2\n",
    "\n",
    "1. Code Block A\n",
    "2. Code Block B"
   ]
  },
  {
   "cell_type": "code",
   "execution_count": 15,
   "metadata": {
    "slideshow": {
     "slide_type": "fragment"
    }
   },
   "outputs": [
    {
     "name": "stdout",
     "output_type": "stream",
     "text": [
      "a\n"
     ]
    }
   ],
   "source": [
    "# how to check your thinking when you're studying\n",
    "COND_A = True\n",
    "COND_B = True\n",
    "\n",
    "if COND_A:\n",
    "    print('a')\n",
    "elif COND_B:\n",
    "    print('b')\n",
    "else:\n",
    "    print('c')"
   ]
  },
  {
   "cell_type": "markdown",
   "metadata": {
    "slideshow": {
     "slide_type": "slide"
    }
   },
   "source": [
    "### Loops\n",
    "\n",
    "- loops: `for` and `while`\n",
    "    - `continue`, `break`, `pass`"
   ]
  },
  {
   "cell_type": "markdown",
   "metadata": {
    "slideshow": {
     "slide_type": "slide"
    }
   },
   "source": [
    "#### Loops Question #1\n",
    "What are the two kinds of loops? ____________ and ____________"
   ]
  },
  {
   "cell_type": "markdown",
   "metadata": {
    "slideshow": {
     "slide_type": "fragment"
    }
   },
   "source": [
    "#### Loops Question #2\n",
    "Use the following:\n",
    "`ind = 1` to write a loop (using real Python code) that would loop and print the value `ind` of ind each time through the loop _and_ update the value of ind by 1. Have this loop stop after 4 iterations. "
   ]
  },
  {
   "cell_type": "markdown",
   "metadata": {
    "slideshow": {
     "slide_type": "slide"
    }
   },
   "source": [
    "#### Loops Answers"
   ]
  },
  {
   "cell_type": "markdown",
   "metadata": {
    "scrolled": true,
    "slideshow": {
     "slide_type": "fragment"
    }
   },
   "source": [
    "Loops Question #1\n",
    "\n",
    "for and while"
   ]
  },
  {
   "cell_type": "code",
   "execution_count": 18,
   "metadata": {
    "slideshow": {
     "slide_type": "fragment"
    }
   },
   "outputs": [
    {
     "name": "stdout",
     "output_type": "stream",
     "text": [
      "1\n",
      "2\n",
      "3\n",
      "4\n"
     ]
    }
   ],
   "source": [
    "# Loops Question #2\n",
    "ind = 1\n",
    "\n",
    "while ind <= 4:\n",
    "    print(ind)\n",
    "    ind += 1\n",
    "    #or ind = ind + 1"
   ]
  },
  {
   "cell_type": "markdown",
   "metadata": {
    "slideshow": {
     "slide_type": "slide"
    }
   },
   "source": [
    "## Clicker Question\n",
    "\n",
    "How are you feeling about the midterm?\n",
    "\n",
    "- A) Very Prepared\n",
    "- B) Somewhat prepared\n",
    "- C) OK\n",
    "- D) Somewhat nervous\n",
    "- E) Very nervous"
   ]
  },
  {
   "cell_type": "markdown",
   "metadata": {
    "slideshow": {
     "slide_type": "slide"
    }
   },
   "source": [
    "### Functions\n",
    "\n",
    "- `def`\n",
    "    - `return`\n",
    "- executing a function\n",
    "    - parameters\n",
    "        - keyword vs. positional\n",
    "        - default values\n",
    "    - have a separate namespace\n",
    "- methods \n",
    "    - in place vs. not in place"
   ]
  },
  {
   "cell_type": "markdown",
   "metadata": {
    "slideshow": {
     "slide_type": "slide"
    }
   },
   "source": [
    "#### Functions Question #1\n",
    "Write, in real code, a function called `add` that takes two inputs, assumed to be numbers, sums them together and returns the result."
   ]
  },
  {
   "cell_type": "code",
   "execution_count": null,
   "metadata": {
    "slideshow": {
     "slide_type": "fragment"
    }
   },
   "outputs": [],
   "source": [
    "## YOUR CODE HERE"
   ]
  },
  {
   "cell_type": "markdown",
   "metadata": {
    "slideshow": {
     "slide_type": "fragment"
    }
   },
   "source": [
    "#### Functions Question #2\n",
    "Using the function `add` you wrote above, write the python code you would use to add the value 16 and 18 together. Store the output in the variable `my_sum`."
   ]
  },
  {
   "cell_type": "code",
   "execution_count": null,
   "metadata": {
    "slideshow": {
     "slide_type": "fragment"
    }
   },
   "outputs": [],
   "source": [
    "## YOUR CODE HERE"
   ]
  },
  {
   "cell_type": "markdown",
   "metadata": {
    "slideshow": {
     "slide_type": "slide"
    }
   },
   "source": [
    "#### Functions Answers"
   ]
  },
  {
   "cell_type": "code",
   "execution_count": 22,
   "metadata": {
    "slideshow": {
     "slide_type": "fragment"
    }
   },
   "outputs": [],
   "source": [
    "## Functions Quesiton #1\n",
    "\n",
    "def add(num1, num2):  # set default vlues within parenthesis\n",
    "    out = num1 + num2\n",
    "    return out"
   ]
  },
  {
   "cell_type": "code",
   "execution_count": 23,
   "metadata": {
    "slideshow": {
     "slide_type": "fragment"
    }
   },
   "outputs": [
    {
     "data": {
      "text/plain": [
       "34"
      ]
     },
     "execution_count": 23,
     "metadata": {},
     "output_type": "execute_result"
    }
   ],
   "source": [
    "## Functions Question #2\n",
    "\n",
    "my_sum = add(16,18)\n",
    "# OR\n",
    "my_sum = add(18,16)\n",
    "\n",
    "my_sum"
   ]
  },
  {
   "cell_type": "markdown",
   "metadata": {
    "slideshow": {
     "slide_type": "slide"
    }
   },
   "source": [
    "### Objects & Classes\n",
    "\n",
    "- objects & `class`\n",
    "    - attributes\n",
    "    - methods\n",
    "    - instances\n"
   ]
  },
  {
   "cell_type": "markdown",
   "metadata": {
    "slideshow": {
     "slide_type": "slide"
    }
   },
   "source": [
    "#### Objects & Classes Question #1\n",
    "\n",
    "Given an instance object 'koala' of the class 'Animals', write a line to:\n",
    "\n",
    "\tcall the method 'speak' on 'koala': \t_________________________________\n",
    "\n",
    "\taccess the attribute 'sound' of 'koala': \t_________________________________\n"
   ]
  },
  {
   "cell_type": "markdown",
   "metadata": {
    "slideshow": {
     "slide_type": "fragment"
    }
   },
   "source": [
    "#### Objects & Classes Question #2\n",
    "\n",
    "Fill in the blanks:\n",
    "\n",
    "\tWhat is the name of a function defined within a class: ______________\n",
    "\n",
    "\tIn Python, everything is a(n) ______________. \n"
   ]
  },
  {
   "cell_type": "markdown",
   "metadata": {
    "slideshow": {
     "slide_type": "slide"
    }
   },
   "source": [
    "#### Objects & Classes Answers\n",
    "\n",
    "Question #1: \n",
    "- `koala.speak()`\n",
    "- `koala.sound`\n",
    "\n",
    "Question #2: \n",
    "- method\n",
    "- object"
   ]
  },
  {
   "cell_type": "markdown",
   "metadata": {
    "slideshow": {
     "slide_type": "slide"
    }
   },
   "source": [
    "### Python & Jupyter Extras\n",
    "- encodings (`chr` & `ord`)\n",
    "- whitespace\n",
    "- namespace\n",
    "- kernel\n",
    "- code comments\n",
    "- magic functions"
   ]
  },
  {
   "cell_type": "markdown",
   "metadata": {
    "slideshow": {
     "slide_type": "slide"
    }
   },
   "source": [
    "#### Extras Question #1\n",
    "What will the following piece of code print out?\n",
    "\n",
    "```print(chr(ord('A')))``` \n",
    "    \n",
    "     _____________"
   ]
  },
  {
   "cell_type": "markdown",
   "metadata": {
    "slideshow": {
     "slide_type": "fragment"
    }
   },
   "source": [
    "#### Extras Question #2 \n",
    "\n",
    "What is the magic function `%whos` used for?"
   ]
  },
  {
   "cell_type": "markdown",
   "metadata": {
    "slideshow": {
     "slide_type": "slide"
    }
   },
   "source": [
    "#### Extras Question #3\n",
    "\n",
    "For each of the following, indicate if the statement is True or False about Python\n",
    "\n",
    "- True/False Whitespace matters in Python\n",
    "- True/False Comments in Python start with '%' \t\t\t\t\t\n",
    "- True/False You have to specify a data type when you define a variable\n",
    "- True/False Every Python variable is available from every namespace\t\t\n"
   ]
  },
  {
   "cell_type": "markdown",
   "metadata": {
    "slideshow": {
     "slide_type": "slide"
    }
   },
   "source": [
    "#### Extras Answers"
   ]
  },
  {
   "cell_type": "code",
   "execution_count": null,
   "metadata": {
    "slideshow": {
     "slide_type": "fragment"
    }
   },
   "outputs": [],
   "source": [
    "# Extras Question #1\n",
    "print(chr(ord('A')))"
   ]
  },
  {
   "cell_type": "markdown",
   "metadata": {
    "scrolled": true,
    "slideshow": {
     "slide_type": "fragment"
    }
   },
   "source": [
    "Extras Question #2\n",
    "\n",
    "returning information about what objects are stored in your namespace (i.e. variables, functions, classes, etc.)"
   ]
  },
  {
   "cell_type": "code",
   "execution_count": null,
   "metadata": {
    "scrolled": true
   },
   "outputs": [],
   "source": [
    "%whos"
   ]
  },
  {
   "cell_type": "markdown",
   "metadata": {
    "scrolled": true,
    "slideshow": {
     "slide_type": "fragment"
    }
   },
   "source": [
    "Extras Question #3\n",
    "\n",
    "- True - Whitespace matters in Python\n",
    "- False - Comments in Python start with '%' \t\t\t\t\t\n",
    "- False - You have to specify a data type when you define a variable\n",
    "- False - Every Python variable is available from every namespace\t"
   ]
  },
  {
   "cell_type": "markdown",
   "metadata": {
    "slideshow": {
     "slide_type": "slide"
    }
   },
   "source": [
    "<h2><center>After the midterm:</center></h2>"
   ]
  },
  {
   "cell_type": "markdown",
   "metadata": {
    "slideshow": {
     "slide_type": "fragment"
    }
   },
   "source": [
    "<h3><center> We will focus on the Python ecosystem, and applications of Python. </center></h3>"
   ]
  },
  {
   "cell_type": "markdown",
   "metadata": {
    "slideshow": {
     "slide_type": "fragment"
    }
   },
   "source": [
    "<h3><center> We also become a project based course. </center></h3>"
   ]
  }
 ],
 "metadata": {
  "celltoolbar": "Slideshow",
  "kernelspec": {
   "display_name": "Python 3",
   "language": "python",
   "name": "python3"
  },
  "language_info": {
   "codemirror_mode": {
    "name": "ipython",
    "version": 3
   },
   "file_extension": ".py",
   "mimetype": "text/x-python",
   "name": "python",
   "nbconvert_exporter": "python",
   "pygments_lexer": "ipython3",
   "version": "3.6.8"
  },
  "rise": {
   "scroll": true
  }
 },
 "nbformat": 4,
 "nbformat_minor": 2
}
