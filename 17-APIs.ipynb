{
 "cells": [
  {
   "cell_type": "markdown",
   "metadata": {
    "slideshow": {
     "slide_type": "slide"
    }
   },
   "source": [
    "## Final Projects\n",
    "\n",
    "- can add functionality to what you did in A2, A3, or A4\n",
    "    - Cipher/Encryption\n",
    "    - Chatbot\n",
    "    - Artificial Agents\n",
    "- can do something else (Choose Your Own Adventure)\n",
    "    - previous examples:\n",
    "        - password checker\n",
    "        - D&D die rolling "
   ]
  },
  {
   "cell_type": "markdown",
   "metadata": {
    "slideshow": {
     "slide_type": "slide"
    }
   },
   "source": [
    "## Course Announcements\n",
    "\n",
    "- Midterm Exam Scores Posted (Median: 86%)\n",
    "    - Can look at these during Coding Lab next week\n",
    "    - OR during my office hours _NEXT_ week\n",
    "- Friday of Week 9\n",
    "    - Tom Donoghue will lecture\n",
    "    - Professor Ellis' Office Hours cancelled 5/31\n",
    "    - Will hold make-up office hours Tuesday of wk9 (5/28) 3-5PM\n",
    "- Final Project Due (Wed of Finals week - 11:59 PM)\n",
    "    - For help debugging projects\n",
    "        - come to us with a specific function or single issue\n",
    "        - \"Spaghetti Code\" will be hard for us to help you with\n"
   ]
  },
  {
   "cell_type": "markdown",
   "metadata": {
    "slideshow": {
     "slide_type": "fragment"
    }
   },
   "source": [
    "## The Plan\n",
    "\n",
    "- Tools: Scientific Computing + Open Source\n",
    "- Improvement: Documentation, Code Style, Code Testing, Code Projects\n",
    "- Last Bits: Advanced Python, Wrap Up"
   ]
  },
  {
   "cell_type": "markdown",
   "metadata": {
    "slideshow": {
     "slide_type": "slide"
    }
   },
   "source": [
    "## Clicker Warm Up\n",
    "\n",
    "Define a function `add_then_multiply` that takes three inputs, assumed to be numbers, adds the first two inputs together and then multiplies that sum by the third input. Return the output.\n",
    "\n",
    "- A) I did it!\n",
    "- B) I think I did it!\n",
    "- C) I'm stuck."
   ]
  },
  {
   "cell_type": "code",
   "execution_count": 8,
   "metadata": {},
   "outputs": [
    {
     "data": {
      "text/plain": [
       "20"
      ]
     },
     "execution_count": 8,
     "metadata": {},
     "output_type": "execute_result"
    }
   ],
   "source": [
    "### YOUR CODE HERE\n",
    "def add_then_multiply(num1, num2, num3):\n",
    "    add = num1 + num2\n",
    "    output = add * num3\n",
    "    return output\n",
    "\n",
    "add_then_multiply(2,3,4)"
   ]
  },
  {
   "cell_type": "code",
   "execution_count": null,
   "metadata": {
    "slideshow": {
     "slide_type": "fragment"
    }
   },
   "outputs": [],
   "source": [
    "# sample answer\n",
    "def add_then_multiply(num1, num2, num3):\n",
    "    return (num1 + num2)*num3\n",
    "\n",
    "add_then_multiply(2,3,8)"
   ]
  },
  {
   "cell_type": "markdown",
   "metadata": {
    "slideshow": {
     "slide_type": "slide"
    }
   },
   "source": [
    "# APIs\n",
    "\n",
    "- modules\n",
    "    - review\n",
    "    - module APIs\n",
    "- RESTful APIs\n",
    "    - LISC\n",
    "    - Twitter API"
   ]
  },
  {
   "cell_type": "markdown",
   "metadata": {
    "slideshow": {
     "slide_type": "slide"
    }
   },
   "source": [
    "## Application Programming Interface"
   ]
  },
  {
   "cell_type": "markdown",
   "metadata": {
    "slideshow": {
     "slide_type": "fragment"
    }
   },
   "source": [
    "<div class=\"alert alert-success\">\n",
    "An API is a programmatic interface to an application - a software to software interface, or way for programs to talk to other programs. \n",
    "</div>"
   ]
  },
  {
   "cell_type": "markdown",
   "metadata": {
    "slideshow": {
     "slide_type": "fragment"
    }
   },
   "source": [
    "If you are pointing and clicking on computer applications, that is _not_ an API.\n",
    "\n",
    "If you are writing code to interact with software and get information, that _IS_ an API."
   ]
  },
  {
   "cell_type": "markdown",
   "metadata": {
    "slideshow": {
     "slide_type": "slide"
    }
   },
   "source": [
    "## Module APIs"
   ]
  },
  {
   "cell_type": "markdown",
   "metadata": {
    "slideshow": {
     "slide_type": "fragment"
    }
   },
   "source": [
    "Modules have an API. Every time you write or use a set of functions and/or classes, you are writing or using an API. "
   ]
  },
  {
   "cell_type": "markdown",
   "metadata": {
    "slideshow": {
     "slide_type": "slide"
    }
   },
   "source": [
    "## Quick Review: Modules"
   ]
  },
  {
   "cell_type": "markdown",
   "metadata": {
    "slideshow": {
     "slide_type": "fragment"
    }
   },
   "source": [
    "<div class=\"alert alert-success\">\n",
    "A 'module' is a set of Python code with functions, classes, etc. available in it. A Python package is a directory of modules.\n",
    "</div>"
   ]
  },
  {
   "cell_type": "markdown",
   "metadata": {
    "slideshow": {
     "slide_type": "fragment"
    }
   },
   "source": [
    "Modules are stored in Python files. We can import these files into our namespace, to gain access to the module within Python."
   ]
  },
  {
   "cell_type": "code",
   "execution_count": 9,
   "metadata": {
    "slideshow": {
     "slide_type": "fragment"
    }
   },
   "outputs": [
    {
     "data": {
      "text/plain": [
       "3.0"
      ]
     },
     "execution_count": 9,
     "metadata": {},
     "output_type": "execute_result"
    }
   ],
   "source": [
    "# Import & use the math module\n",
    "import math\n",
    "math.sqrt(9)"
   ]
  },
  {
   "cell_type": "markdown",
   "metadata": {
    "slideshow": {
     "slide_type": "slide"
    }
   },
   "source": [
    "### Imports: `from` & `as`"
   ]
  },
  {
   "cell_type": "code",
   "execution_count": 11,
   "metadata": {
    "slideshow": {
     "slide_type": "fragment"
    }
   },
   "outputs": [
    {
     "data": {
      "text/plain": [
       "'Ask again later.'"
      ]
     },
     "execution_count": 11,
     "metadata": {},
     "output_type": "execute_result"
    }
   ],
   "source": [
    "# Import a specific object from a module\n",
    "from random import choice\n",
    "\n",
    "# use random.choice\n",
    "magic_8_ball = ['As I see it, yes!', 'Most likely.', \n",
    "                'Ask again later.', 'Don\\'t Count on it', \n",
    "                'Outlook not so good']\n",
    "choice(magic_8_ball)"
   ]
  },
  {
   "cell_type": "code",
   "execution_count": 12,
   "metadata": {
    "slideshow": {
     "slide_type": "fragment"
    }
   },
   "outputs": [
    {
     "data": {
      "text/plain": [
       "'Ask again later.'"
      ]
     },
     "execution_count": 12,
     "metadata": {},
     "output_type": "execute_result"
    }
   ],
   "source": [
    "# Import a specific object from a module using an alias\n",
    "from random import choice as ch\n",
    "\n",
    "# use aliased name \n",
    "ch(magic_8_ball)"
   ]
  },
  {
   "cell_type": "markdown",
   "metadata": {
    "collapsed": true,
    "slideshow": {
     "slide_type": "slide"
    }
   },
   "source": [
    "### Importing Custom Code"
   ]
  },
  {
   "cell_type": "code",
   "execution_count": 13,
   "metadata": {
    "slideshow": {
     "slide_type": "fragment"
    }
   },
   "outputs": [],
   "source": [
    "# Import a class class from an external module\n",
    "from remote import MyNumbers"
   ]
  },
  {
   "cell_type": "code",
   "execution_count": 14,
   "metadata": {
    "scrolled": true,
    "slideshow": {
     "slide_type": "fragment"
    }
   },
   "outputs": [
    {
     "data": {
      "text/plain": [
       "5"
      ]
     },
     "execution_count": 14,
     "metadata": {},
     "output_type": "execute_result"
    }
   ],
   "source": [
    "# Define an instance of our custom class\n",
    "# apply method\n",
    "out = MyNumbers(2, 3).add()\n",
    "out"
   ]
  },
  {
   "cell_type": "code",
   "execution_count": 15,
   "metadata": {
    "slideshow": {
     "slide_type": "fragment"
    }
   },
   "outputs": [],
   "source": [
    "# remember we only imported MyNumbers\n",
    "choice?"
   ]
  },
  {
   "cell_type": "markdown",
   "metadata": {
    "slideshow": {
     "slide_type": "slide"
    }
   },
   "source": [
    "## Module APIs"
   ]
  },
  {
   "cell_type": "markdown",
   "metadata": {
    "slideshow": {
     "slide_type": "fragment"
    }
   },
   "source": [
    "Modules have an API. Every time you write or use a set of functions and/or classes, you are writing or using an API. "
   ]
  },
  {
   "cell_type": "markdown",
   "metadata": {
    "slideshow": {
     "slide_type": "slide"
    }
   },
   "source": [
    "### Clicker Question #1\n",
    "\n",
    "What will the following code snippet print out:"
   ]
  },
  {
   "cell_type": "code",
   "execution_count": null,
   "metadata": {
    "slideshow": {
     "slide_type": "fragment"
    }
   },
   "outputs": [],
   "source": [
    "def foo(a, b, c=0):\n",
    "    d = c\n",
    "    for e in a[:b]:\n",
    "        d += e\n",
    "    return d\n",
    "\n",
    "print(foo(b=2, a=[10, 10, 10, 10]))"
   ]
  },
  {
   "cell_type": "markdown",
   "metadata": {
    "slideshow": {
     "slide_type": "fragment"
    }
   },
   "source": [
    "- A) 10\n",
    "- B) 20\n",
    "- C) 30 \n",
    "- D) 40\n",
    "- E) None"
   ]
  },
  {
   "cell_type": "markdown",
   "metadata": {
    "slideshow": {
     "slide_type": "slide"
    }
   },
   "source": [
    "### Clicker Question #2\n",
    "\n",
    "How easy did you find interpreting this code?\n",
    "\n",
    "- A) Easy\n",
    "- B) Fairly Easy\n",
    "- C) Neutral\n",
    "- D) Somewaht Difficult\n",
    "- E) Difficult"
   ]
  },
  {
   "cell_type": "markdown",
   "metadata": {
    "slideshow": {
     "slide_type": "fragment"
    }
   },
   "source": [
    "Arguably, this function does _not_ have a good API."
   ]
  },
  {
   "cell_type": "markdown",
   "metadata": {
    "slideshow": {
     "slide_type": "slide"
    }
   },
   "source": [
    "### Function with Fixed Names"
   ]
  },
  {
   "cell_type": "markdown",
   "metadata": {
    "slideshow": {
     "slide_type": "slide"
    }
   },
   "source": [
    "### Clicker Question #3\n",
    "\n",
    "What will the following code snippet print out:"
   ]
  },
  {
   "cell_type": "code",
   "execution_count": 16,
   "metadata": {
    "slideshow": {
     "slide_type": "fragment"
    }
   },
   "outputs": [
    {
     "name": "stdout",
     "output_type": "stream",
     "text": [
      "20\n"
     ]
    }
   ],
   "source": [
    "def sum_across_list(list_to_count, end_index, start_val=0):\n",
    "\n",
    "    running_count = start_val\n",
    "    \n",
    "    for element in list_to_count[:end_index]:\n",
    "        running_count += element\n",
    "    \n",
    "    return running_count\n",
    "\n",
    "print(sum_across_list(end_index=2, list_to_count=[10, 10, 10, 10]))"
   ]
  },
  {
   "cell_type": "markdown",
   "metadata": {
    "slideshow": {
     "slide_type": "fragment"
    }
   },
   "source": [
    "- A) 10\n",
    "- B) 20\n",
    "- C) 30 \n",
    "- D) 40\n",
    "- E) None"
   ]
  },
  {
   "cell_type": "markdown",
   "metadata": {
    "slideshow": {
     "slide_type": "slide"
    }
   },
   "source": [
    "### Clicker Question #4\n",
    "\n",
    "How easy did you find interpreting this code?\n",
    "\n",
    "- A) Easy\n",
    "- B) Fairly Easy\n",
    "- C) Neutral\n",
    "- D) Somewaht Difficult\n",
    "- E) Difficult"
   ]
  },
  {
   "cell_type": "markdown",
   "metadata": {
    "slideshow": {
     "slide_type": "fragment"
    }
   },
   "source": [
    "This is the same function, but has a better API."
   ]
  },
  {
   "cell_type": "markdown",
   "metadata": {
    "slideshow": {
     "slide_type": "slide"
    }
   },
   "source": [
    "## Names Matter!"
   ]
  },
  {
   "cell_type": "markdown",
   "metadata": {
    "slideshow": {
     "slide_type": "fragment"
    }
   },
   "source": [
    "When writing an API, you are designing the user facing code that a programmer (maybe you in the future) will use.\n",
    "\n",
    "When using an API, you are using the programmer-facing code that someone else wrote for the task. \n",
    "\n",
    "Taking time to have good names and clear documentation can *really help* a programmer interact with an API. "
   ]
  },
  {
   "cell_type": "markdown",
   "metadata": {
    "slideshow": {
     "slide_type": "slide"
    }
   },
   "source": [
    "### Clicker Question #5\n",
    "\n",
    "Improve the code below's API:"
   ]
  },
  {
   "cell_type": "code",
   "execution_count": 17,
   "metadata": {
    "slideshow": {
     "slide_type": "fragment"
    }
   },
   "outputs": [],
   "source": [
    "class G():\n",
    "    \n",
    "    def __init__(self, f, l=None):\n",
    "        self.f = f\n",
    "        self.l = l\n",
    "    \n",
    "    def ib(self):\n",
    "        b1 = ['Tyrion', 'Cersei', 'Jon', 'Arya']\n",
    "        b2 = ['Bran', 'The Mountain', 'The Hound', 'Lord Varys', \n",
    "                 'Melisandre', 'Brienne of Tarth']\n",
    "        b3 = ['King Joffrey', 'Ramsay', 'Little Finger'] \n",
    "        \n",
    "        if self.f is 'Arya':\n",
    "            o = 'Super BAMF!'\n",
    "        elif self.f in b1:\n",
    "            o = 'Definitely a badass'\n",
    "        elif self.f in b2:\n",
    "            o = 'We\\'ve got ourselves a tier 2 badass!'\n",
    "        elif self.f in b3:\n",
    "            o = 'Ew! Despised and reviled.'\n",
    "        else:\n",
    "            o = 'meh. could be a badass?'\n",
    "        return o"
   ]
  },
  {
   "cell_type": "code",
   "execution_count": 21,
   "metadata": {
    "slideshow": {
     "slide_type": "fragment"
    }
   },
   "outputs": [
    {
     "data": {
      "text/plain": [
       "'Ew! Despised and reviled.'"
      ]
     },
     "execution_count": 21,
     "metadata": {},
     "output_type": "execute_result"
    }
   ],
   "source": [
    "GameOfThrones('Ramsay').badass_or_not()"
   ]
  },
  {
   "cell_type": "markdown",
   "metadata": {
    "slideshow": {
     "slide_type": "fragment"
    }
   },
   "source": [
    "- A) I made it all better!\n",
    "- B) I made it slightly better!\n",
    "- C) I think it's fine as it is.\n",
    "- D) Super lost"
   ]
  },
  {
   "cell_type": "code",
   "execution_count": 19,
   "metadata": {
    "slideshow": {
     "slide_type": "fragment"
    }
   },
   "outputs": [],
   "source": [
    "# our improved answer\n",
    "class GameOfThrones():\n",
    "    \n",
    "    def __init__(self, name):\n",
    "        self.name = name\n",
    "    \n",
    "    def badass_or_not(self):\n",
    "        tier1 = ['Tyrion', 'Cersei', 'Jon', 'Arya']\n",
    "        tier2 = ['Bran', 'The Mountain', 'The Hound', 'Lord Varys', \n",
    "                 'Melisandre', 'Brienne of Tarth']\n",
    "        tier3 = ['King Joffrey', 'Ramsay', 'Little Finger'] \n",
    "        \n",
    "        if self.name is 'Arya':\n",
    "            o = 'Super BAMF!'\n",
    "        elif self.name in tier1:\n",
    "            o = 'Definitely a badass'\n",
    "        elif self.name in tier2:\n",
    "            o = 'We\\'ve got ourselves a tier 2 badass!'\n",
    "        elif self.name in tier3:\n",
    "            o = 'Ew! Despised and reviled.'\n",
    "        else:\n",
    "            o = 'meh. could be a badass?'\n",
    "        return o"
   ]
  },
  {
   "cell_type": "code",
   "execution_count": 22,
   "metadata": {
    "slideshow": {
     "slide_type": "slide"
    }
   },
   "outputs": [],
   "source": [
    "## example answer\n",
    "class GameOfThrones():\n",
    "    \n",
    "    def __init__(self, first, last=None):\n",
    "        self.first = first\n",
    "        self.last = last\n",
    "\n",
    "    def is_badass(self):\n",
    "        badass = ['Tyrion', 'Cersei', 'Jon', 'Arya']\n",
    "        tier2_badass = ['Bran', 'The Mountain', 'The Hound', 'Lord Varys', \n",
    "                 'Melisandre', 'Brienne of Tarth']\n",
    "        not_badass = ['King Joffrey', 'Ramsay', 'Little Finger'] \n",
    "\n",
    "        if self.first is 'Arya':\n",
    "            out = 'Super BAMF!'\n",
    "        elif self.first in badass:\n",
    "            out = 'Definitely a badass'\n",
    "        elif self.first in tier2_badass:\n",
    "            out = 'We\\'ve got ourselves a tier 2 badass!'\n",
    "        elif self.first in not_badass:\n",
    "            out = 'Ew! Despised and reviled.'\n",
    "        else:\n",
    "            out = 'meh. could be a badass?'\n",
    "        return out"
   ]
  },
  {
   "cell_type": "code",
   "execution_count": 23,
   "metadata": {},
   "outputs": [
    {
     "data": {
      "text/plain": [
       "'meh. could be a badass?'"
      ]
     },
     "execution_count": 23,
     "metadata": {},
     "output_type": "execute_result"
    }
   ],
   "source": [
    "GameOfThrones('Daenerys').is_badass()"
   ]
  },
  {
   "cell_type": "markdown",
   "metadata": {
    "slideshow": {
     "slide_type": "slide"
    }
   },
   "source": [
    "![](img/GOT.png)"
   ]
  },
  {
   "cell_type": "markdown",
   "metadata": {
    "slideshow": {
     "slide_type": "slide"
    }
   },
   "source": [
    "## Web APIs"
   ]
  },
  {
   "cell_type": "markdown",
   "metadata": {
    "slideshow": {
     "slide_type": "fragment"
    }
   },
   "source": [
    "APIs are an interface to interact with an application, _designed for programmatic use_:\n",
    "- They allow systematic, controlled access to (for example) an applications database and procedures\n",
    "- They can be used to request data and/or to request that the the application perform some procedure"
   ]
  },
  {
   "cell_type": "markdown",
   "metadata": {
    "slideshow": {
     "slide_type": "slide"
    }
   },
   "source": [
    "### RESTful API\n",
    "\n",
    "(Representational State Transfer API) \n",
    "\n",
    "An approach to interact with web addresses"
   ]
  },
  {
   "cell_type": "markdown",
   "metadata": {
    "slideshow": {
     "slide_type": "slide"
    }
   },
   "source": [
    "## EUtils API"
   ]
  },
  {
   "cell_type": "markdown",
   "metadata": {
    "slideshow": {
     "slide_type": "fragment"
    }
   },
   "source": [
    "<div class=\"alert alert-success\">\n",
    "EUtils is a web accessible API for the National Center for Biotechnology Information, and the databases they curate.\n",
    "</div>"
   ]
  },
  {
   "cell_type": "markdown",
   "metadata": {
    "slideshow": {
     "slide_type": "slide"
    }
   },
   "source": [
    "### EUtils: Search\n",
    "\n",
    "Search a database to get information we want it to return"
   ]
  },
  {
   "cell_type": "code",
   "execution_count": null,
   "metadata": {
    "slideshow": {
     "slide_type": "fragment"
    }
   },
   "outputs": [],
   "source": [
    "# Set the base URL for the e-utils API\n",
    "# where you go to query information from this web address\n",
    "base_url = 'http://eutils.ncbi.nlm.nih.gov/entrez/eutils/'"
   ]
  },
  {
   "cell_type": "markdown",
   "metadata": {
    "slideshow": {
     "slide_type": "fragment"
    }
   },
   "source": [
    "Build a URL like a Python function call...\n",
    "\n",
    "We're just adding some additional 'parameters'."
   ]
  },
  {
   "cell_type": "code",
   "execution_count": 25,
   "metadata": {
    "slideshow": {
     "slide_type": "fragment"
    }
   },
   "outputs": [],
   "source": [
    "# Set the information we need for launching a search request\n",
    "search = 'esearch.fcgi?'\n",
    "term = 'term=' + 'brain'"
   ]
  },
  {
   "cell_type": "markdown",
   "metadata": {
    "slideshow": {
     "slide_type": "fragment"
    }
   },
   "source": [
    "Interacting with APIs specifies that we follow the rules specified by the API from which we're requesting information."
   ]
  },
  {
   "cell_type": "markdown",
   "metadata": {
    "slideshow": {
     "slide_type": "slide"
    }
   },
   "source": [
    "### EUtils: Fetch"
   ]
  },
  {
   "cell_type": "code",
   "execution_count": 26,
   "metadata": {
    "slideshow": {
     "slide_type": "fragment"
    }
   },
   "outputs": [
    {
     "name": "stdout",
     "output_type": "stream",
     "text": [
      "http://eutils.ncbi.nlm.nih.gov/entrez/eutils/esearch.fcgi?term=brain\n"
     ]
    }
   ],
   "source": [
    "# Build the full search URL\n",
    "search_url = base_url + search + term\n",
    "print(search_url)"
   ]
  },
  {
   "cell_type": "code",
   "execution_count": 27,
   "metadata": {
    "slideshow": {
     "slide_type": "fragment"
    }
   },
   "outputs": [],
   "source": [
    "# Set the information we need for launching a fetch request\n",
    "fetch = 'efetch.fcgi?'\n",
    "db = 'db=' + 'pubmed'\n",
    "retmode = '&retmode=' + 'xml'\n",
    "pubmed_id = '&id=' + str(30439964)"
   ]
  },
  {
   "cell_type": "code",
   "execution_count": 28,
   "metadata": {
    "slideshow": {
     "slide_type": "fragment"
    }
   },
   "outputs": [
    {
     "name": "stdout",
     "output_type": "stream",
     "text": [
      "http://eutils.ncbi.nlm.nih.gov/entrez/eutils/efetch.fcgi?db=pubmed&retmode=xml&id=30439964\n"
     ]
    }
   ],
   "source": [
    "# Build the full search URL\n",
    "fetch_url = base_url + fetch + db + retmode + pubmed_id\n",
    "print(fetch_url)"
   ]
  },
  {
   "cell_type": "markdown",
   "metadata": {
    "slideshow": {
     "slide_type": "fragment"
    }
   },
   "source": [
    "But, our goal isn't to see this information in a web browser. Web browsers are for humans. We want to use this information computationally..."
   ]
  },
  {
   "cell_type": "markdown",
   "metadata": {
    "slideshow": {
     "slide_type": "slide"
    }
   },
   "source": [
    "## Requesting Web Pages from Python\n",
    "\n",
    "To accomplish API interactions, we need to use HTTP requests."
   ]
  },
  {
   "cell_type": "code",
   "execution_count": 29,
   "metadata": {
    "slideshow": {
     "slide_type": "fragment"
    }
   },
   "outputs": [],
   "source": [
    "# The requests module allows you to send URL requests from python\n",
    "import requests\n",
    "\n",
    "# Beautiful Soup has functions to 'clean up' returned web pages into human-friendlier formats\n",
    "from bs4 import BeautifulSoup"
   ]
  },
  {
   "cell_type": "markdown",
   "metadata": {
    "slideshow": {
     "slide_type": "slide"
    }
   },
   "source": [
    "### EUtils Search, through Python"
   ]
  },
  {
   "cell_type": "code",
   "execution_count": 30,
   "metadata": {},
   "outputs": [
    {
     "name": "stdout",
     "output_type": "stream",
     "text": [
      "http://eutils.ncbi.nlm.nih.gov/entrez/eutils/esearch.fcgi?term=brain\n"
     ]
    }
   ],
   "source": [
    "print(search_url)"
   ]
  },
  {
   "cell_type": "code",
   "execution_count": 31,
   "metadata": {
    "slideshow": {
     "slide_type": "fragment"
    }
   },
   "outputs": [],
   "source": [
    "# Request the search page, and parse\n",
    "search_page = requests.get(search_url)\n",
    "search_content = BeautifulSoup(search_page.content, 'xml')"
   ]
  },
  {
   "cell_type": "code",
   "execution_count": 32,
   "metadata": {
    "slideshow": {
     "slide_type": "fragment"
    }
   },
   "outputs": [
    {
     "data": {
      "text/plain": [
       "<?xml version=\"1.0\" encoding=\"utf-8\"?>\n",
       "<!DOCTYPE eSearchResult PUBLIC \"-//NLM//DTD esearch 20060628//EN\" \"https://eutils.ncbi.nlm.nih.gov/eutils/dtd/20060628/esearch.dtd\">\n",
       "<eSearchResult><Count>1874845</Count><RetMax>20</RetMax><RetStart>0</RetStart><IdList>\n",
       "<Id>31096266</Id>\n",
       "<Id>31096265</Id>\n",
       "<Id>31096263</Id>\n",
       "<Id>31096254</Id>\n",
       "<Id>31096253</Id>\n",
       "<Id>31096251</Id>\n",
       "<Id>31096244</Id>\n",
       "<Id>31096242</Id>\n",
       "<Id>31096233</Id>\n",
       "<Id>31096226</Id>\n",
       "<Id>31096212</Id>\n",
       "<Id>31096210</Id>\n",
       "<Id>31096209</Id>\n",
       "<Id>31096208</Id>\n",
       "<Id>31096206</Id>\n",
       "<Id>31096205</Id>\n",
       "<Id>31096192</Id>\n",
       "<Id>31096191</Id>\n",
       "<Id>31096188</Id>\n",
       "<Id>31096185</Id>\n",
       "</IdList><TranslationSet><Translation> <From>brain</From> <To>\"brain\"[MeSH Terms] OR \"brain\"[All Fields]</To> </Translation></TranslationSet><TranslationStack> <TermSet> <Term>\"brain\"[MeSH Terms]</Term> <Field>MeSH Terms</Field> <Count>1158687</Count> <Explode>Y</Explode> </TermSet> <TermSet> <Term>\"brain\"[All Fields]</Term> <Field>All Fields</Field> <Count>1492046</Count> <Explode>N</Explode> </TermSet> <OP>OR</OP> <OP>GROUP</OP> </TranslationStack><QueryTranslation>\"brain\"[MeSH Terms] OR \"brain\"[All Fields]</QueryTranslation></eSearchResult>"
      ]
     },
     "execution_count": 32,
     "metadata": {},
     "output_type": "execute_result"
    }
   ],
   "source": [
    "# Check out the content of the returned page\n",
    "search_content"
   ]
  },
  {
   "cell_type": "markdown",
   "metadata": {
    "slideshow": {
     "slide_type": "slide"
    }
   },
   "source": [
    "### EUtils Fetch, through Python"
   ]
  },
  {
   "cell_type": "code",
   "execution_count": 33,
   "metadata": {},
   "outputs": [
    {
     "name": "stdout",
     "output_type": "stream",
     "text": [
      "http://eutils.ncbi.nlm.nih.gov/entrez/eutils/efetch.fcgi?db=pubmed&retmode=xml&id=30439964\n"
     ]
    }
   ],
   "source": [
    "print(fetch_url)"
   ]
  },
  {
   "cell_type": "code",
   "execution_count": 34,
   "metadata": {
    "slideshow": {
     "slide_type": "fragment"
    }
   },
   "outputs": [],
   "source": [
    "# Request the fetch page, and parse\n",
    "fetch_page = requests.get(fetch_url)\n",
    "fetch_content = BeautifulSoup(fetch_page.content, 'lxml')"
   ]
  },
  {
   "cell_type": "code",
   "execution_count": 36,
   "metadata": {
    "scrolled": false,
    "slideshow": {
     "slide_type": "fragment"
    }
   },
   "outputs": [],
   "source": [
    "# Check out the content of the page\n",
    "# fetch_content"
   ]
  },
  {
   "cell_type": "markdown",
   "metadata": {
    "slideshow": {
     "slide_type": "slide"
    }
   },
   "source": [
    "### BeautifulSoup Objects"
   ]
  },
  {
   "cell_type": "code",
   "execution_count": 37,
   "metadata": {
    "slideshow": {
     "slide_type": "fragment"
    }
   },
   "outputs": [
    {
     "data": {
      "text/plain": [
       "bs4.BeautifulSoup"
      ]
     },
     "execution_count": 37,
     "metadata": {},
     "output_type": "execute_result"
    }
   ],
   "source": [
    "# Our 'fetch_content' variable is a custom BeautifulSoup object\n",
    "type(fetch_content)"
   ]
  },
  {
   "cell_type": "code",
   "execution_count": 38,
   "metadata": {
    "scrolled": false,
    "slideshow": {
     "slide_type": "fragment"
    }
   },
   "outputs": [
    {
     "data": {
      "text/plain": [
       "'2019'"
      ]
     },
     "execution_count": 38,
     "metadata": {},
     "output_type": "execute_result"
    }
   ],
   "source": [
    "# We can use some methods to access particular information\n",
    "fetch_content.find('year').text"
   ]
  },
  {
   "cell_type": "markdown",
   "metadata": {
    "slideshow": {
     "slide_type": "slide"
    }
   },
   "source": [
    "## Literature Scanner\n",
    "\n",
    "But when making HTTP requests it can be difficult to figure out exactly what URL needs to be specified and how to get the contents back out.\n",
    "\n",
    "So, often in Python we'll interact with an API indirectly. There are packages that will use methods and objects to make this easier on us.\n",
    "\n",
    "**LISC** : Literature Scanner is a tool for automated meta-analyses of scientific literature (https://github.com/lisc-tools/lisc)"
   ]
  },
  {
   "cell_type": "code",
   "execution_count": null,
   "metadata": {
    "slideshow": {
     "slide_type": "slide"
    }
   },
   "outputs": [],
   "source": [
    "# uncomment and run to have the following \n",
    "# example work in your notebook\n",
    "# !pip install --user git+https://github.com/lisc-tools/lisc.git\n",
    "# !pip install --user wordcloud"
   ]
  },
  {
   "cell_type": "code",
   "execution_count": 39,
   "metadata": {
    "scrolled": true,
    "slideshow": {
     "slide_type": "fragment"
    }
   },
   "outputs": [],
   "source": [
    "# Import LISC - Words\n",
    "from lisc.words import Words"
   ]
  },
  {
   "cell_type": "code",
   "execution_count": 40,
   "metadata": {
    "slideshow": {
     "slide_type": "fragment"
    }
   },
   "outputs": [],
   "source": [
    "# Initialize Words object & set some search terms\n",
    "words = Words()\n",
    "words.set_terms(['brain']) "
   ]
  },
  {
   "cell_type": "code",
   "execution_count": 41,
   "metadata": {
    "slideshow": {
     "slide_type": "fragment"
    }
   },
   "outputs": [],
   "source": [
    "# Run words scrape\n",
    "words.run_scrape(retmax='5')"
   ]
  },
  {
   "cell_type": "markdown",
   "metadata": {
    "slideshow": {
     "slide_type": "slide"
    }
   },
   "source": [
    "### LISC: Words Data"
   ]
  },
  {
   "cell_type": "code",
   "execution_count": 42,
   "metadata": {
    "slideshow": {
     "slide_type": "fragment"
    }
   },
   "outputs": [
    {
     "name": "stdout",
     "output_type": "stream",
     "text": [
      "The relationship of varenicline agonism of α4β2 nicotinic acetylcholine receptors and nicotine-induced dopamine release in nicotine dependent humans.\n",
      "Leksell Stereotactic Radiosurgery for Cavernous Malformations.\n",
      "Stereotactic Radiosurgery for Low-Grade Gliomas.\n",
      "Leksell Radiosurgery for the 3 H Tumors: Hemangiomas, Hemangioblastomas, and Hemangiopericytomas.\n",
      "Stereotactic Radiosurgery for Patients with 10 or More Brain Metastases.\n"
     ]
    }
   ],
   "source": [
    "# Check out some information from our scraped data\n",
    "for art in words['brain']:\n",
    "    print(art['title'])"
   ]
  },
  {
   "cell_type": "code",
   "execution_count": 43,
   "metadata": {
    "slideshow": {
     "slide_type": "fragment"
    }
   },
   "outputs": [],
   "source": [
    "%matplotlib inline\n",
    "from lisc.plts.wc import make_wc\n",
    "from lisc.data_all import DataAll"
   ]
  },
  {
   "cell_type": "code",
   "execution_count": 44,
   "metadata": {},
   "outputs": [],
   "source": [
    "## take a look at this function\n",
    "make_wc?"
   ]
  },
  {
   "cell_type": "code",
   "execution_count": 45,
   "metadata": {
    "slideshow": {
     "slide_type": "fragment"
    }
   },
   "outputs": [
    {
     "data": {
      "image/png": "[encoded data removed]",
      "text/plain": [
       "<Figure size 720x720 with 1 Axes>"
      ]
     },
     "metadata": {
      "needs_background": "light"
     },
     "output_type": "display_data"
    }
   ],
   "source": [
    "# Get the data from the 'brain' word search, and make a wordcloud\n",
    "brain_dat = DataAll(words.results[0])\n",
    "make_wc(brain_dat.word_freqs, 20, 'Brain')"
   ]
  },
  {
   "cell_type": "markdown",
   "metadata": {
    "slideshow": {
     "slide_type": "slide"
    }
   },
   "source": [
    "## Twitter API"
   ]
  },
  {
   "cell_type": "code",
   "execution_count": null,
   "metadata": {
    "slideshow": {
     "slide_type": "notes"
    }
   },
   "outputs": [],
   "source": [
    "# to use this on your computer\n",
    "# uncomment and run following line\n",
    "# !pip install tweepy"
   ]
  },
  {
   "cell_type": "markdown",
   "metadata": {
    "slideshow": {
     "slide_type": "notes"
    }
   },
   "source": [
    "Then, follow the instructions [here](https://www.digitalocean.com/community/tutorials/how-to-authenticate-a-python-application-with-twitter-using-tweepy-on-ubuntu-14-04) for authetication of tweepy with Python."
   ]
  },
  {
   "cell_type": "code",
   "execution_count": 47,
   "metadata": {
    "slideshow": {
     "slide_type": "fragment"
    }
   },
   "outputs": [
    {
     "name": "stdout",
     "output_type": "stream",
     "text": [
      "Mike Freeman\n",
      "@dataandme @SDSSconf @amcasari @pyladies @RLadiesGlobal You’re coming to Seattle for SDSS?!?!? Excited to cross your path up here! \n",
      "\n",
      "Noam Ross\n",
      "RT @fla_montano: Congratulations!!! Carlos Zambrana-Torrelio @EcoHealthNYC #BolivianPride #OrgulloBoliviano\n",
      "An Ecological Framework for Mod… \n",
      "\n",
      "Baltimore Brew\n",
      "RT @BaltBizOnline: Mobtown Ballroom operators will revive the storied Marble Bar https://t.co/lSKRoRB38a https://t.co/Dv6AKfsBd5 \n",
      "\n"
     ]
    }
   ],
   "source": [
    "# Accessing Twitter API from Python\n",
    "#  Note: to run this, you will have to fill in stw.py with your OAuth credentials.\n",
    "#    You can do that here: https://apps.twitter.com/\n",
    "\n",
    "# Import tweepy to access API\n",
    "import tweepy\n",
    "from tweepy import OAuthHandler\n",
    "\n",
    "# Import my API credentials\n",
    "from stw import *\n",
    "\n",
    "# Twitter API requires Authentification with OAuth\n",
    "auth = OAuthHandler(CONSUMER_KEY, CONSUMER_SECRET)\n",
    "auth.set_access_token(ACCESS_TOKEN, ACCESS_TOKEN_SECRET)\n",
    "\n",
    "# # Create an API object to access Twitter\n",
    "api = tweepy.API(auth)\n",
    "\n",
    "for status in tweepy.Cursor(api.home_timeline).items(3):\n",
    "    # Process a single status\n",
    "    print(status.user.name)\n",
    "    print(status.text, '\\n')"
   ]
  }
 ],
 "metadata": {
  "celltoolbar": "Slideshow",
  "kernelspec": {
   "display_name": "Python 3",
   "language": "python",
   "name": "python3"
  },
  "language_info": {
   "codemirror_mode": {
    "name": "ipython",
    "version": 3
   },
   "file_extension": ".py",
   "mimetype": "text/x-python",
   "name": "python",
   "nbconvert_exporter": "python",
   "pygments_lexer": "ipython3",
   "version": "3.6.8"
  },
  "rise": {
   "scroll": true
  }
 },
 "nbformat": 4,
 "nbformat_minor": 2
}
