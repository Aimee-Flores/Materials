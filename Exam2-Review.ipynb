{
 "cells": [
  {
   "cell_type": "markdown",
   "metadata": {
    "slideshow": {
     "slide_type": "slide"
    }
   },
   "source": [
    "# Exam 2 Review"
   ]
  },
  {
   "cell_type": "markdown",
   "metadata": {
    "slideshow": {
     "slide_type": "fragment"
    }
   },
   "source": [
    "<h1 align=\"center\">Exam #2 is Wednesday 11/13</h1>"
   ]
  },
  {
   "cell_type": "markdown",
   "metadata": {
    "slideshow": {
     "slide_type": "notes"
    }
   },
   "source": [
    "## Midterm Expectations\n",
    "\n",
    "You will be expected to: \n",
    "\n",
    "1. Recognize, understand and _respond_ to Python syntax:\n",
    "    - statements & comments, whitespace, code blocks & indentation levels\n",
    "    - keywords (def, class, return, etc.)\n",
    "2. Recognize, understand and be able to _explain_ code constructions:\n",
    "    - variables, operators, data types, conditionals, loops\n",
    "3. Know and be able to explain (roughly define) concepts we have talked about:\n",
    "    - encodings & algorithms are related concepts (encryption, computability)\n",
    "4. Be able to apply what you've learned:\n",
    "    - Given a task:\n",
    "        - what kind of code constructions are needed to answer it?\n",
    "        - what kind of concepts does it relate to?\n",
    "5. With respect to everything above, be able to read and respond to short code snippets and write out code."
   ]
  },
  {
   "cell_type": "markdown",
   "metadata": {
    "slideshow": {
     "slide_type": "slide"
    }
   },
   "source": [
    "### Midterm Mechanics\n",
    "\n",
    "- Primarily short answers\n",
    "- Also: multiple choice, true/false, etc.\n",
    "\n",
    "#### The test is on paper. \n",
    "- You _will_ be both writing and interpreting code\n",
    "- You will _NOT_ be writing or debugging _large_ code sections on paper"
   ]
  },
  {
   "cell_type": "markdown",
   "metadata": {
    "slideshow": {
     "slide_type": "slide"
    }
   },
   "source": [
    "### Reminder: \n",
    "\n",
    "There are two extra notebooks that you can use for review:\n",
    "\n",
    "1. [A1-Syntax](https://cogs18.github.io/materials/A1-Syntax/)\n",
    "2. [A2-Examples](https://cogs18.github.io/materials/A2-Examples/)\n",
    "\n",
    "There are also a few Exam #2 Practice Problems [here](https://cogs18.github.io/materials/Exam2-Practice)."
   ]
  },
  {
   "cell_type": "markdown",
   "metadata": {
    "slideshow": {
     "slide_type": "slide"
    }
   },
   "source": [
    "## Topics & Example Questions\n",
    "\n",
    "- Variables & Data Types\n",
    "- Operators, Conditionals, & Loops\n",
    "- Functions, Objects & Classes\n",
    "- Python & Jupyter Extras"
   ]
  },
  {
   "cell_type": "markdown",
   "metadata": {
    "slideshow": {
     "slide_type": "slide"
    }
   },
   "source": [
    "### Variables & DataTypes\n",
    "\n",
    "Types:\n",
    "- strings, integers, floats, Booleans, None\n",
    "- Collections\n",
    "    - Lists\n",
    "    - Tuples\n",
    "    - Dictionaries\n",
    "\n",
    "Concepts:\n",
    "- Mutable vs. Immutable\n",
    "- Indexing"
   ]
  },
  {
   "cell_type": "markdown",
   "metadata": {
    "slideshow": {
     "slide_type": "slide"
    }
   },
   "source": [
    "### Operators\n",
    "\n",
    "- assignment : `=`\n",
    "- math: `+`, `-`, `/`, `*`, `**`, `//`\n",
    "- comparison : `==`, `!=`, `<`, `>`, `<=`, `>=`\n",
    "- logic: `and`, `or`, `not`\n",
    "- identity: `is`, `is not`\n",
    "- membership : `in`, `not in`"
   ]
  },
  {
   "cell_type": "markdown",
   "metadata": {
    "slideshow": {
     "slide_type": "slide"
    }
   },
   "source": [
    "### Conditionals\n",
    "\n",
    "- `if`, `elif`, & `else`"
   ]
  },
  {
   "cell_type": "markdown",
   "metadata": {
    "slideshow": {
     "slide_type": "slide"
    }
   },
   "source": [
    "### Loops\n",
    "\n",
    "- loops: `for` and `while`\n",
    "    - `continue`, `break`, `pass`"
   ]
  },
  {
   "cell_type": "markdown",
   "metadata": {
    "slideshow": {
     "slide_type": "slide"
    }
   },
   "source": [
    "### Functions\n",
    "\n",
    "- `def`\n",
    "    - `return`\n",
    "- executing a function\n",
    "    - parameters\n",
    "        - keyword vs. positional\n",
    "        - default values\n",
    "    - have a separate namespace\n",
    "- methods \n",
    "    - in place vs. not in place"
   ]
  },
  {
   "cell_type": "markdown",
   "metadata": {
    "slideshow": {
     "slide_type": "slide"
    }
   },
   "source": [
    "#### Functions Question #1\n",
    "Write, in real code, a function called `add` that takes two inputs, assumed to be numbers, sums them together and returns the result."
   ]
  },
  {
   "cell_type": "code",
   "execution_count": null,
   "metadata": {
    "slideshow": {
     "slide_type": "fragment"
    }
   },
   "outputs": [],
   "source": [
    "## YOUR CODE HERE"
   ]
  },
  {
   "cell_type": "markdown",
   "metadata": {
    "slideshow": {
     "slide_type": "fragment"
    }
   },
   "source": [
    "#### Functions Question #2\n",
    "Using the function `add` you wrote above, write the python code you would use to add the value 16 and 18 together. Store the output in the variable `my_sum`."
   ]
  },
  {
   "cell_type": "code",
   "execution_count": null,
   "metadata": {
    "slideshow": {
     "slide_type": "fragment"
    }
   },
   "outputs": [],
   "source": [
    "## YOUR CODE HERE"
   ]
  },
  {
   "cell_type": "markdown",
   "metadata": {
    "slideshow": {
     "slide_type": "slide"
    }
   },
   "source": [
    "#### Functions Answers"
   ]
  },
  {
   "cell_type": "code",
   "execution_count": null,
   "metadata": {
    "slideshow": {
     "slide_type": "fragment"
    }
   },
   "outputs": [],
   "source": [
    "## Functions Quesiton #1\n",
    "\n",
    "def add(num1, num2):  # set default vlues within parenthesis\n",
    "    out = num1 + num2\n",
    "    return out"
   ]
  },
  {
   "cell_type": "code",
   "execution_count": null,
   "metadata": {
    "slideshow": {
     "slide_type": "fragment"
    }
   },
   "outputs": [],
   "source": [
    "## Functions Question #2\n",
    "\n",
    "my_sum = add(16,18)\n",
    "# OR\n",
    "my_sum = add(18,16)\n",
    "\n",
    "my_sum"
   ]
  },
  {
   "cell_type": "markdown",
   "metadata": {
    "slideshow": {
     "slide_type": "slide"
    }
   },
   "source": [
    "### Objects & Classes\n",
    "\n",
    "- objects & `class`\n",
    "    - attributes\n",
    "    - methods\n",
    "    - instances\n"
   ]
  },
  {
   "cell_type": "markdown",
   "metadata": {
    "slideshow": {
     "slide_type": "slide"
    }
   },
   "source": [
    "#### Objects & Classes Question #1\n",
    "\n",
    "Given an instance object 'koala' of the class 'Animals', write a line to:\n",
    "\n",
    "\tcall the method 'speak' on 'koala': \t_________________________________\n",
    "\n",
    "\taccess the attribute 'sound' of 'koala': \t_________________________________\n"
   ]
  },
  {
   "cell_type": "markdown",
   "metadata": {
    "slideshow": {
     "slide_type": "fragment"
    }
   },
   "source": [
    "#### Objects & Classes Question #2\n",
    "\n",
    "Fill in the blanks:\n",
    "\n",
    "\tWhat is the name of a function defined within a class: ______________\n",
    "\n",
    "\tIn Python, everything is a(n) ______________. \n"
   ]
  },
  {
   "cell_type": "markdown",
   "metadata": {
    "slideshow": {
     "slide_type": "slide"
    }
   },
   "source": [
    "#### Objects & Classes Answers\n",
    "\n",
    "Question #1: \n",
    "- `koala.speak()`\n",
    "- `koala.sound`\n",
    "\n",
    "Question #2: \n",
    "- method\n",
    "- object"
   ]
  },
  {
   "cell_type": "markdown",
   "metadata": {
    "slideshow": {
     "slide_type": "slide"
    }
   },
   "source": [
    "### Python & Jupyter Extras\n",
    "- encodings (`chr` & `ord`)\n",
    "- whitespace\n",
    "- namespace\n",
    "- kernel\n",
    "- code comments\n",
    "- magic functions"
   ]
  },
  {
   "cell_type": "markdown",
   "metadata": {
    "slideshow": {
     "slide_type": "slide"
    }
   },
   "source": [
    "#### Extras Question #1\n",
    "What will the following piece of code print out?\n",
    "\n",
    "```print(chr(ord('A')))``` \n",
    "    \n",
    "     _____________"
   ]
  },
  {
   "cell_type": "markdown",
   "metadata": {
    "slideshow": {
     "slide_type": "fragment"
    }
   },
   "source": [
    "#### Extras Question #2 \n",
    "\n",
    "What is the magic function `%whos` used for?"
   ]
  },
  {
   "cell_type": "markdown",
   "metadata": {
    "slideshow": {
     "slide_type": "slide"
    }
   },
   "source": [
    "#### Extras Question #3\n",
    "\n",
    "For each of the following, indicate if the statement is True or False about Python\n",
    "\n",
    "- True/False Whitespace matters in Python\n",
    "- True/False Comments in Python start with '%' \t\t\t\t\t\n",
    "- True/False You have to specify a data type when you define a variable\n",
    "- True/False Every Python variable is available from every namespace\t\t\n"
   ]
  },
  {
   "cell_type": "markdown",
   "metadata": {
    "slideshow": {
     "slide_type": "slide"
    }
   },
   "source": [
    "#### Extras Answers"
   ]
  },
  {
   "cell_type": "code",
   "execution_count": null,
   "metadata": {
    "slideshow": {
     "slide_type": "fragment"
    }
   },
   "outputs": [],
   "source": [
    "# Extras Question #1\n",
    "print(chr(ord('A')))"
   ]
  },
  {
   "cell_type": "markdown",
   "metadata": {
    "scrolled": true,
    "slideshow": {
     "slide_type": "fragment"
    }
   },
   "source": [
    "Extras Question #2\n",
    "\n",
    "returning information about what objects are stored in your namespace (i.e. variables, functions, classes, etc.)"
   ]
  },
  {
   "cell_type": "code",
   "execution_count": null,
   "metadata": {
    "scrolled": true
   },
   "outputs": [],
   "source": [
    "%whos"
   ]
  },
  {
   "cell_type": "markdown",
   "metadata": {
    "scrolled": true,
    "slideshow": {
     "slide_type": "fragment"
    }
   },
   "source": [
    "Extras Question #3\n",
    "\n",
    "- True - Whitespace matters in Python\n",
    "- False - Comments in Python start with '%' \t\t\t\t\t\n",
    "- False - You have to specify a data type when you define a variable\n",
    "- False - Every Python variable is available from every namespace\t"
   ]
  },
  {
   "cell_type": "markdown",
   "metadata": {
    "slideshow": {
     "slide_type": "slide"
    }
   },
   "source": [
    "<h2><center>After the second exam:</center></h2>"
   ]
  },
  {
   "cell_type": "markdown",
   "metadata": {
    "slideshow": {
     "slide_type": "fragment"
    }
   },
   "source": [
    "<h3><center> We will focus on the Python ecosystem, and applications of Python. </center></h3>"
   ]
  },
  {
   "cell_type": "markdown",
   "metadata": {
    "slideshow": {
     "slide_type": "fragment"
    }
   },
   "source": [
    "<h3><center> We also become a project based course. </center></h3>"
   ]
  }
 ],
 "metadata": {
  "celltoolbar": "Slideshow",
  "kernelspec": {
   "display_name": "Python 3",
   "language": "python",
   "name": "python3"
  },
  "language_info": {
   "codemirror_mode": {
    "name": "ipython",
    "version": 3
   },
   "file_extension": ".py",
   "mimetype": "text/x-python",
   "name": "python",
   "nbconvert_exporter": "python",
   "pygments_lexer": "ipython3",
   "version": "3.6.8"
  },
  "rise": {
   "scroll": true
  }
 },
 "nbformat": 4,
 "nbformat_minor": 2
}
