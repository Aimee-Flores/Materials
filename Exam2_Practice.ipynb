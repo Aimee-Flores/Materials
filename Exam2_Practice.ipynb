{
 "cells": [
  {
   "cell_type": "markdown",
   "metadata": {},
   "source": [
    "# Exam #2 Practice Questions\n",
    "\n",
    "To practice for the second exam, read through each of these questions and try and answer the question _before_ you run the code.\n",
    "\n",
    "Since this is a notebook, you can also then run this code to check what it does. \n",
    "\n",
    "Make sure you understand why each thing does what it does!"
   ]
  },
  {
   "cell_type": "markdown",
   "metadata": {},
   "source": [
    "## Functions & Algorithms"
   ]
  },
  {
   "cell_type": "markdown",
   "metadata": {},
   "source": [
    "### Functions 1\n",
    "\n",
    "What will the following code print: \n",
    "\n",
    "A) ‘abcde’\tB) ‘zzcde’\tC) ‘zzzzz’\tD) ‘zz’\tE) ‘’"
   ]
  },
  {
   "cell_type": "code",
   "execution_count": null,
   "metadata": {},
   "outputs": [],
   "source": [
    "def string_manipulator(string):\n",
    "    \n",
    "    output = ''\n",
    "    for char in string:\n",
    "        if char is 'a' or char is 'b':\n",
    "            char = 'z'\n",
    "            output = output + char\n",
    "    return output\n",
    "\n",
    "variable = 'abcde'\n",
    "manipulated_string = string_manipulator(variable)\n",
    "print(manipulated_string)"
   ]
  },
  {
   "cell_type": "markdown",
   "metadata": {},
   "source": [
    "### Functions 2\n",
    "\n",
    "What will the following piece of code print out?"
   ]
  },
  {
   "cell_type": "code",
   "execution_count": null,
   "metadata": {},
   "outputs": [],
   "source": [
    "def manipulate_three(num1, num2, num3):\n",
    "\n",
    "    answer = num1**num2%num3\n",
    "\n",
    "    return answer\n",
    "\n",
    "manipulate_three(3, 2, 5)"
   ]
  },
  {
   "cell_type": "markdown",
   "metadata": {},
   "source": [
    "### Functions 3\n",
    "\n",
    "What will the following piece of code print out?\n",
    "\n",
    "A) 0 | B) 1 | C) 2 | D) 3 | E) 4"
   ]
  },
  {
   "cell_type": "code",
   "execution_count": null,
   "metadata": {},
   "outputs": [],
   "source": [
    "def count_bool(list_of_bools):\n",
    "    \n",
    "    counter = 0\n",
    "    \n",
    "    for it in list_of_bools:\n",
    "    \n",
    "        if isinstance(it, bool):\n",
    "            counter = counter + 1\n",
    "    \n",
    "    return counter\n",
    "\n",
    "count_bool([True, 3, None, False, False])"
   ]
  },
  {
   "cell_type": "markdown",
   "metadata": {},
   "source": [
    "## Errors\n",
    "\n",
    "For each of the following, answer:\n",
    "    - What kind of error will the following code raise? \n",
    "    - How would you fix it?"
   ]
  },
  {
   "cell_type": "markdown",
   "metadata": {},
   "source": [
    "### Errors 1\n",
    "\n",
    "A) Syntax Error| B) Type Error | C) Name Error | D) Code will work "
   ]
  },
  {
   "cell_type": "code",
   "execution_count": null,
   "metadata": {},
   "outputs": [],
   "source": [
    "my_string = \"My favourite number is \" + 27"
   ]
  },
  {
   "cell_type": "markdown",
   "metadata": {},
   "source": [
    "### Errors 2\n",
    "\n",
    "A) Syntax Error| B) Type Error | C) Name Error | D) Code will work "
   ]
  },
  {
   "cell_type": "code",
   "execution_count": null,
   "metadata": {},
   "outputs": [],
   "source": [
    "print('My favorite number is' + str(3+5)"
   ]
  },
  {
   "cell_type": "markdown",
   "metadata": {},
   "source": [
    "### Errors 3\n",
    "\n",
    "A) Syntax Error| B) Type Error | C) Name Error | D) Code will work "
   ]
  },
  {
   "cell_type": "code",
   "execution_count": null,
   "metadata": {
    "collapsed": true
   },
   "outputs": [],
   "source": [
    "my_list = [1, 3, max]"
   ]
  },
  {
   "cell_type": "markdown",
   "metadata": {},
   "source": [
    "## More Errors\n",
    "\n",
    "Each of the code blocks below have something wrong with them. \n",
    "\n",
    "Name the type of error that will result when python tries to execute each example. \n",
    "\n",
    "When you've identified the error, figure out how you would fix this could to run properly."
   ]
  },
  {
   "cell_type": "code",
   "execution_count": null,
   "metadata": {},
   "outputs": [],
   "source": [
    "print'5 plus six')"
   ]
  },
  {
   "cell_type": "code",
   "execution_count": null,
   "metadata": {},
   "outputs": [],
   "source": [
    "int('six')"
   ]
  },
  {
   "cell_type": "code",
   "execution_count": null,
   "metadata": {},
   "outputs": [],
   "source": [
    "100/0"
   ]
  },
  {
   "cell_type": "code",
   "execution_count": null,
   "metadata": {},
   "outputs": [],
   "source": [
    "my_list = [4,5,2]\n",
    "print(my_list[3])"
   ]
  },
  {
   "cell_type": "code",
   "execution_count": null,
   "metadata": {},
   "outputs": [],
   "source": [
    "my_dict = {'this':100, 'that':200}\n",
    "my_dict['there']"
   ]
  },
  {
   "cell_type": "markdown",
   "metadata": {},
   "source": [
    "## Objects"
   ]
  },
  {
   "cell_type": "markdown",
   "metadata": {},
   "source": [
    "### Objects 1\n",
    "\n",
    "Given the following object:\n",
    "\n",
    "- Identify which parts are a class attribute, an instance attribute, and class method. "
   ]
  },
  {
   "cell_type": "code",
   "execution_count": null,
   "metadata": {},
   "outputs": [],
   "source": [
    "class Tom():\n",
    "    \n",
    "    current_job = 'instructor'\n",
    "    \n",
    "    def __init__(self, current_project):\n",
    "        self.current_project = current_project\n",
    "    \n",
    "    def do_new_thing(self, new_thing):\n",
    "        self.current_project = new_thing\n",
    "        print(\"I have a new project now!\")\n",
    "        \n",
    "    def print_project(self):\n",
    "        print(\"My current project is: \", self.current_project)        "
   ]
  },
  {
   "cell_type": "markdown",
   "metadata": {},
   "source": [
    "Using the object from above, what will each of the following code cells (executed in order) do / print out?"
   ]
  },
  {
   "cell_type": "code",
   "execution_count": null,
   "metadata": {
    "collapsed": true
   },
   "outputs": [],
   "source": [
    "tom = Tom('Teaching')"
   ]
  },
  {
   "cell_type": "code",
   "execution_count": null,
   "metadata": {},
   "outputs": [],
   "source": [
    "tom.print_project()"
   ]
  },
  {
   "cell_type": "code",
   "execution_count": null,
   "metadata": {},
   "outputs": [],
   "source": [
    "tom.do_new_thing('Research')"
   ]
  },
  {
   "cell_type": "code",
   "execution_count": null,
   "metadata": {},
   "outputs": [],
   "source": [
    "tom.print_project()"
   ]
  },
  {
   "cell_type": "markdown",
   "metadata": {
    "collapsed": true
   },
   "source": [
    "### Combining Things: Flow Control with Booleans"
   ]
  },
  {
   "cell_type": "markdown",
   "metadata": {},
   "source": [
    "We're going to define a few functions that return booleans. "
   ]
  },
  {
   "cell_type": "code",
   "execution_count": null,
   "metadata": {
    "collapsed": true
   },
   "outputs": [],
   "source": [
    "def foo1():\n",
    "    return True\n",
    "\n",
    "def foo2():\n",
    "    return False\n",
    "\n",
    "def foo3(val):\n",
    "    result = val > 10\n",
    "    return result"
   ]
  },
  {
   "cell_type": "markdown",
   "metadata": {},
   "source": [
    "For each of the following cells, given the function above, what will they print out?"
   ]
  },
  {
   "cell_type": "code",
   "execution_count": null,
   "metadata": {},
   "outputs": [],
   "source": [
    "result1 = (True and foo1()) or (False or foo2())\n",
    "print(result1)"
   ]
  },
  {
   "cell_type": "code",
   "execution_count": null,
   "metadata": {},
   "outputs": [],
   "source": [
    "result2 = (False and foo1()) or (True or foo2())\n",
    "print(result2)"
   ]
  },
  {
   "cell_type": "code",
   "execution_count": null,
   "metadata": {},
   "outputs": [],
   "source": [
    "result3 = (False and foo1()) or (False or foo2()) or (True and foo3(11))\n",
    "print(result3)"
   ]
  },
  {
   "cell_type": "code",
   "execution_count": null,
   "metadata": {},
   "outputs": [],
   "source": [
    "result4 = (False and foo1()) or (False or foo2()) or (True and foo3(1))\n",
    "print(result4)"
   ]
  }
 ],
 "metadata": {
  "kernelspec": {
   "display_name": "Python 3",
   "language": "python",
   "name": "python3"
  },
  "language_info": {
   "codemirror_mode": {
    "name": "ipython",
    "version": 3
   },
   "file_extension": ".py",
   "mimetype": "text/x-python",
   "name": "python",
   "nbconvert_exporter": "python",
   "pygments_lexer": "ipython3",
   "version": "3.6.8"
  }
 },
 "nbformat": 4,
 "nbformat_minor": 2
}
