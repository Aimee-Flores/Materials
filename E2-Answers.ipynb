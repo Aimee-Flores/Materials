{
 "cells": [
  {
   "cell_type": "code",
   "execution_count": 14,
   "metadata": {},
   "outputs": [
    {
     "name": "stdout",
     "output_type": "stream",
     "text": [
      "<class 'float'>\n",
      "<class 'bool'>\n",
      "<class 'str'>\n",
      "<class 'list'>\n",
      "<class 'tuple'>\n",
      "<class 'str'>\n"
     ]
    }
   ],
   "source": [
    "#Q1\n",
    "\n",
    "my_variable = 17.6\n",
    "print(type(my_variable))\n",
    "\n",
    "my_variable = True \n",
    "print(type(my_variable))\n",
    "\n",
    "my_variable = 'name'\n",
    "print(type(my_variable))\n",
    "\n",
    "my_variable = [1, 2, 3]\n",
    "print(type(my_variable))\n",
    "\n",
    "my_variable = (1, 2, 3)\n",
    "print(type(my_variable))\n",
    "\n",
    "my_variable = 'None'\n",
    "print(type(my_variable))\n",
    "\n"
   ]
  },
  {
   "cell_type": "code",
   "execution_count": 16,
   "metadata": {
    "scrolled": true
   },
   "outputs": [
    {
     "name": "stdout",
     "output_type": "stream",
     "text": [
      "1.0\n",
      "0\n",
      "True\n",
      "False\n",
      "True\n"
     ]
    }
   ],
   "source": [
    "#Q2\n",
    "print(6 / (2 + 4))\n",
    "print(18 % 9)\n",
    "#print(2 = 2)\n",
    "print((22 < 5) or (20 == 20))\n",
    "print(False and not False)\n",
    "print('COG' in 'COGS 18')"
   ]
  },
  {
   "cell_type": "code",
   "execution_count": 1,
   "metadata": {},
   "outputs": [
    {
     "name": "stdout",
     "output_type": "stream",
     "text": [
      "Zekria\n",
      "['Duolan', 'Byungkwon', 'Severine']\n"
     ]
    }
   ],
   "source": [
    "#Q3\n",
    "\n",
    "cogs18 = ['Devendra', 'Shreenivas', 'Andrew', 'Chau', 'Duolan', \n",
    "          'Byungkwon', 'Severine', 'Stephen', 'Zekria']\n",
    "\n",
    "print(cogs18[-1])\n",
    "print(cogs18[4:7])"
   ]
  },
  {
   "cell_type": "code",
   "execution_count": 20,
   "metadata": {},
   "outputs": [],
   "source": [
    "#Q4\n",
    "\n",
    "my_list = [1, 2, 3]\n",
    "\n",
    "for value in my_list:\n",
    "    if value > 0:\n",
    "        pass\n",
    "    elif value < 0:\n",
    "        pass\n",
    "    else:\n",
    "        pass"
   ]
  },
  {
   "cell_type": "code",
   "execution_count": 2,
   "metadata": {},
   "outputs": [
    {
     "name": "stdout",
     "output_type": "stream",
     "text": [
      "2\n",
      "2\n",
      "3\n"
     ]
    }
   ],
   "source": [
    "#Q5\n",
    "def subtraction(num1, num2):\n",
    "    return num1 - num2\n",
    "\n",
    "print(subtraction(num1 = 19, num2 = 17))\n",
    "print(subtraction(19, 17))\n",
    "print(subtraction(num2 = 3, num1 = 6))\n",
    "# print(subtraction(num1 = 19, 17))\n"
   ]
  },
  {
   "cell_type": "code",
   "execution_count": 25,
   "metadata": {},
   "outputs": [],
   "source": [
    "#Q6A\n",
    "def state_country(country = 'USA'):\n",
    "    output = 'I am from ' + country\n",
    "    return output"
   ]
  },
  {
   "cell_type": "code",
   "execution_count": 26,
   "metadata": {},
   "outputs": [
    {
     "data": {
      "text/plain": [
       "'I am from USA'"
      ]
     },
     "execution_count": 26,
     "metadata": {},
     "output_type": "execute_result"
    }
   ],
   "source": [
    "#Q6B\n",
    "state_country()"
   ]
  },
  {
   "cell_type": "code",
   "execution_count": 27,
   "metadata": {
    "scrolled": true
   },
   "outputs": [
    {
     "data": {
      "text/plain": [
       "'I am from outer space'"
      ]
     },
     "execution_count": 27,
     "metadata": {},
     "output_type": "execute_result"
    }
   ],
   "source": [
    "#Q6C\n",
    "state_country(country = 'outer space')"
   ]
  },
  {
   "cell_type": "code",
   "execution_count": 3,
   "metadata": {},
   "outputs": [],
   "source": [
    "#Q8A\n",
    "def sum_tuple(my_tuple):\n",
    "    total = 0\n",
    "    for item in my_tuple:\n",
    "        total += item\n",
    "    return total"
   ]
  },
  {
   "cell_type": "code",
   "execution_count": 4,
   "metadata": {},
   "outputs": [
    {
     "data": {
      "text/plain": [
       "6"
      ]
     },
     "execution_count": 4,
     "metadata": {},
     "output_type": "execute_result"
    }
   ],
   "source": [
    "#Q8B\n",
    "sum_tuple((1, 2, 3))"
   ]
  },
  {
   "cell_type": "code",
   "execution_count": 5,
   "metadata": {},
   "outputs": [
    {
     "data": {
      "text/plain": [
       "6"
      ]
     },
     "execution_count": 5,
     "metadata": {},
     "output_type": "execute_result"
    }
   ],
   "source": [
    "#Q8C\n",
    "sum_tuple([1, 2, 3])"
   ]
  },
  {
   "cell_type": "code",
   "execution_count": 38,
   "metadata": {
    "scrolled": true
   },
   "outputs": [
    {
     "name": "stdout",
     "output_type": "stream",
     "text": [
      "3\n",
      "0\n",
      "2\n",
      "4\n"
     ]
    }
   ],
   "source": [
    "#Q9\n",
    "import random\n",
    "print(random.choice([1, 2, 3, 4]))\n",
    "print(random.choice(range(0, 5)))\n",
    "\n",
    "#OR\n",
    "\n",
    "from random import choice\n",
    "print(choice([1, 2, 3, 4]))\n",
    "print(choice(range(0, 5)))"
   ]
  },
  {
   "cell_type": "code",
   "execution_count": 34,
   "metadata": {},
   "outputs": [],
   "source": [
    "# Q12A\n",
    "class BasketballGame():\n",
    "    \n",
    "    def __init__(self, home_team, away_team, \n",
    "                 home_points, away_points):\n",
    "        self.home_team = home_team\n",
    "        self.away_team = away_team\n",
    "        self.home_points = home_points\n",
    "        self.away_points = away_points\n",
    "\n",
    "    def play_game(self):\n",
    "        if self.home_points > self.away_points:\n",
    "            out = \"Winner: \" + self.home_team\n",
    "        elif self.away_points > self.home_points:\n",
    "            out = \"Winner: \" + self.away_team\n",
    "        else:\n",
    "            out = \"Winner: tie\"\n",
    "\n",
    "        return out"
   ]
  },
  {
   "cell_type": "code",
   "execution_count": 39,
   "metadata": {},
   "outputs": [
    {
     "data": {
      "text/plain": [
       "'Winner: Sixers'"
      ]
     },
     "execution_count": 39,
     "metadata": {},
     "output_type": "execute_result"
    }
   ],
   "source": [
    "#Q12B\n",
    "my_game = BasketballGame(home_team = \"Warriors\",  away_team = \"Sixers\",  \n",
    "                         home_points = 100, away_points = 105)\n",
    "my_game.play_game()"
   ]
  }
 ],
 "metadata": {
  "kernelspec": {
   "display_name": "Python 3",
   "language": "python",
   "name": "python3"
  },
  "language_info": {
   "codemirror_mode": {
    "name": "ipython",
    "version": 3
   },
   "file_extension": ".py",
   "mimetype": "text/x-python",
   "name": "python",
   "nbconvert_exporter": "python",
   "pygments_lexer": "ipython3",
   "version": "3.6.8"
  }
 },
 "nbformat": 4,
 "nbformat_minor": 2
}
